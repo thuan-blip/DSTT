{
  "nbformat": 4,
  "nbformat_minor": 0,
  "metadata": {
    "colab": {
      "provenance": []
    },
    "kernelspec": {
      "name": "python3",
      "display_name": "Python 3"
    },
    "language_info": {
      "name": "python"
    }
  },
  "cells": [
    {
      "cell_type": "markdown",
      "source": [
        "BÀI TẬP TẠI LỚP"
      ],
      "metadata": {
        "id": "DLG1IiVUXcJe"
      }
    },
    {
      "cell_type": "code",
      "execution_count": 5,
      "metadata": {
        "colab": {
          "base_uri": "https://localhost:8080/",
          "height": 0
        },
        "id": "vVhl5yrPUZ1S",
        "outputId": "8614ecff-49c4-4469-9f6a-df80628f1dca"
      },
      "outputs": [
        {
          "output_type": "stream",
          "name": "stdout",
          "text": [
            "[30, 50, 70]\n"
          ]
        }
      ],
      "source": [
        "def scare(a,v):\n",
        "  return [a*vi for vi in v]\n",
        "vi = [3,5,7]\n",
        "print(scare(10,v))"
      ]
    },
    {
      "cell_type": "code",
      "source": [
        "def sumvector(a,v):\n",
        "  return [vi+wi for (vi,wi) in zip(a,v)]\n",
        "a = [3,5,7]\n",
        "v = [2,4,6]\n",
        "\n",
        "print(sumvector(a,v))\n",
        ""
      ],
      "metadata": {
        "colab": {
          "base_uri": "https://localhost:8080/",
          "height": 0
        },
        "id": "h4Y2UVnXWOmo",
        "outputId": "02fbabab-fea5-4f85-ddd6-c77df719a1b7"
      },
      "execution_count": 6,
      "outputs": [
        {
          "output_type": "stream",
          "name": "stdout",
          "text": [
            "[5, 9, 13]\n"
          ]
        }
      ]
    },
    {
      "cell_type": "code",
      "source": [
        "import math\n",
        "\n",
        "def dotvector(v1, v2):\n",
        "    return sum(x * y for x, y in zip(v1, v2))\n",
        "\n",
        "def lenvector(v):\n",
        "    return math.sqrt(dotvector(v, v))\n",
        "\n",
        "w = [3, 4]\n",
        "print(lenvector(w))"
      ],
      "metadata": {
        "colab": {
          "base_uri": "https://localhost:8080/",
          "height": 0
        },
        "id": "ns2X1KwNUlpU",
        "outputId": "a6f0a454-0810-4348-f60c-78981fef74e8"
      },
      "execution_count": 7,
      "outputs": [
        {
          "output_type": "stream",
          "name": "stdout",
          "text": [
            "5.0\n"
          ]
        }
      ]
    },
    {
      "cell_type": "code",
      "source": [
        "import numpy as np\n",
        "\n",
        "# Phần 1\n",
        "scores = np.array([-1, 1, 2, -3, 5, -4])\n",
        "print(\"scores:\", scores)\n",
        "\n",
        "print(\"scores >= 0:\", scores >= 0)\n",
        "print(\"scores < 0:\", scores < 0)\n",
        "\n",
        "# Thêm default='' để đảm bảo dtype cho đầu ra là string\n",
        "labels1 = np.select([scores >= 0, scores < 0], ['so duong', 'so am'], default='')\n",
        "print(\"Phân loại (>=0 và <0):\", labels1)\n",
        "\n",
        "print(\"\\n---\\n\")\n",
        "\n",
        "# Phần 2\n",
        "scores = np.array([-1, 1, 2, 0, -3, 5, 0, -4])\n",
        "print(\"scores:\", scores)\n",
        "\n",
        "# Thêm default='' để đảm bảo dtype cho đầu ra là string\n",
        "labels2 = np.select(\n",
        "    [scores > 0, scores == 0, scores < 0],\n",
        "    ['so duong', 'so 0', 'so am'],\n",
        "    default=''\n",
        ")\n",
        "print(\"Phân loại (>0, ==0, <0):\", labels2)"
      ],
      "metadata": {
        "colab": {
          "base_uri": "https://localhost:8080/"
        },
        "id": "W3auhyZFZ-J8",
        "outputId": "3eb02d6a-4b19-4e92-cae1-532628312007"
      },
      "execution_count": 9,
      "outputs": [
        {
          "output_type": "stream",
          "name": "stdout",
          "text": [
            "scores: [-1  1  2 -3  5 -4]\n",
            "scores >= 0: [False  True  True False  True False]\n",
            "scores < 0: [ True False False  True False  True]\n",
            "Phân loại (>=0 và <0): ['so am' 'so duong' 'so duong' 'so am' 'so duong' 'so am']\n",
            "\n",
            "---\n",
            "\n",
            "scores: [-1  1  2  0 -3  5  0 -4]\n",
            "Phân loại (>0, ==0, <0): ['so am' 'so duong' 'so duong' 'so 0' 'so am' 'so duong' 'so 0' 'so am']\n"
          ]
        }
      ]
    },
    {
      "cell_type": "code",
      "source": [
        "# STT 1: Import thư viện\n",
        "import numpy as np\n",
        "from scipy import linalg, sparse\n",
        "\n",
        "# STT 2: Ma trận D\n",
        "# Thay np.mat bằng np.asmatrix\n",
        "D = np.asmatrix([[3, 4], [5, 6]])\n",
        "print(\"Ma trận D:\\n\", D)\n",
        "\n",
        "# STT 3: Ma trận ngẫu nhiên C (5x7)\n",
        "# Thay np.mat bằng np.asmatrix\n",
        "C = np.asmatrix(np.random.random((5, 7)))\n",
        "print(\"\\nMa trận C (5x7 - ngẫu nhiên):\\n\", C)\n",
        "\n",
        "# STT 4: Ma trận ngẫu nhiên A (2x2)\n",
        "# Thay np.mat bằng np.asmatrix\n",
        "A = np.asmatrix(np.random.random((2, 2)))\n",
        "print(\"\\nMa trận A (2x2 - ngẫu nhiên):\\n\", A)\n",
        "\n",
        "# STT 5: Mảng phức b, chuyển sang ma trận B\n",
        "b = np.array([(1+5j, 2j, 3j), (4, 5, 6)])\n",
        "B = np.asmatrix(b)\n",
        "\n",
        "# STT 6: In mảng b và ma trận B\n",
        "print(\"\\nMảng b:\\n\", b)\n",
        "print(\"\\nMa trận B (từ b):\\n\", B)\n",
        "\n",
        "# STT 7: Chuyển vị ma trận A\n",
        "print(\"\\nA.T (chuyển vị A):\\n\", A.T)\n",
        "\n",
        "# STT 7 tiếp: Ma trận nghịch đảo A\n",
        "# Sử dụng .I cho ma trận là cách thông thường với np.matrix\n",
        "print(\"\\nMa trận nghịch đảo A (A.I):\\n\", A.I)\n",
        "print(\"\\nMa trận nghịch đảo A (linalg.inv):\\n\", linalg.inv(A))\n",
        "\n",
        "# STT 8: Ma trận dưới từ đường chéo\n",
        "M = np.array([[-1, 3, 2], [0, -2, 1], [1, 5, -2]])\n",
        "M_lower = np.tril(M)\n",
        "print(\"\\nMa trận M:\\n\", M)\n",
        "print(\"\\nMa trận dưới từ đường chéo (M_lower):\\n\", M_lower)\n",
        "\n",
        "# STT 9: Ma trận trên từ đường chéo\n",
        "M_upper = np.triu(M)\n",
        "print(\"\\nMa trận trên từ đường chéo (M_upper):\\n\", M_upper)\n",
        "\n",
        "# STT 10: Vector đường chéo và ma trận đường chéo\n",
        "v_diag = np.diag(M)\n",
        "print(\"\\nVector đường chéo (v_diag):\\n\", v_diag)\n",
        "\n",
        "M_diag = np.diag(v_diag)\n",
        "print(\"\\nMa trận đường chéo từ vector (M_diag):\\n\", M_diag)"
      ],
      "metadata": {
        "colab": {
          "base_uri": "https://localhost:8080/"
        },
        "id": "Y8DwFBmaaTZ7",
        "outputId": "69eed2cd-06cc-4e3b-d605-70c5774d522b"
      },
      "execution_count": 11,
      "outputs": [
        {
          "output_type": "stream",
          "name": "stdout",
          "text": [
            "Ma trận D:\n",
            " [[3 4]\n",
            " [5 6]]\n",
            "\n",
            "Ma trận C (5x7 - ngẫu nhiên):\n",
            " [[0.48011331 0.9647095  0.18964272 0.43418768 0.32594764 0.46023122\n",
            "  0.84242726]\n",
            " [0.52760904 0.15856888 0.36775574 0.21553621 0.06320154 0.85835857\n",
            "  0.6714982 ]\n",
            " [0.69135732 0.49526936 0.4513114  0.91187083 0.21684343 0.14784599\n",
            "  0.50654326]\n",
            " [0.09761222 0.83503275 0.59580963 0.02272083 0.418582   0.52025893\n",
            "  0.68715844]\n",
            " [0.17251356 0.01880104 0.80015238 0.48174685 0.65813323 0.24156531\n",
            "  0.90358872]]\n",
            "\n",
            "Ma trận A (2x2 - ngẫu nhiên):\n",
            " [[0.08863842 0.50178392]\n",
            " [0.18444469 0.24769877]]\n",
            "\n",
            "Mảng b:\n",
            " [[1.+5.j 0.+2.j 0.+3.j]\n",
            " [4.+0.j 5.+0.j 6.+0.j]]\n",
            "\n",
            "Ma trận B (từ b):\n",
            " [[1.+5.j 0.+2.j 0.+3.j]\n",
            " [4.+0.j 5.+0.j 6.+0.j]]\n",
            "\n",
            "A.T (chuyển vị A):\n",
            " [[0.08863842 0.18444469]\n",
            " [0.50178392 0.24769877]]\n",
            "\n",
            "Ma trận nghịch đảo A (A.I):\n",
            " [[-3.50869232  7.10784855]\n",
            " [ 2.61268828 -1.25557729]]\n",
            "\n",
            "Ma trận nghịch đảo A (linalg.inv):\n",
            " [[-3.50869232  7.10784855]\n",
            " [ 2.61268828 -1.25557729]]\n",
            "\n",
            "Ma trận M:\n",
            " [[-1  3  2]\n",
            " [ 0 -2  1]\n",
            " [ 1  5 -2]]\n",
            "\n",
            "Ma trận dưới từ đường chéo (M_lower):\n",
            " [[-1  0  0]\n",
            " [ 0 -2  0]\n",
            " [ 1  5 -2]]\n",
            "\n",
            "Ma trận trên từ đường chéo (M_upper):\n",
            " [[-1  3  2]\n",
            " [ 0 -2  1]\n",
            " [ 0  0 -2]]\n",
            "\n",
            "Vector đường chéo (v_diag):\n",
            " [-1 -2 -2]\n",
            "\n",
            "Ma trận đường chéo từ vector (M_diag):\n",
            " [[-1  0  0]\n",
            " [ 0 -2  0]\n",
            " [ 0  0 -2]]\n"
          ]
        }
      ]
    },
    {
      "cell_type": "code",
      "source": [
        "import numpy as np\n",
        "\n",
        "A = np.reshape(np.arange(36.0), (6, 6))\n",
        "print(A)\n"
      ],
      "metadata": {
        "colab": {
          "base_uri": "https://localhost:8080/"
        },
        "id": "63qWolFQaqTj",
        "outputId": "ad498d37-81ca-472a-dfc6-0ddfd4197260"
      },
      "execution_count": 12,
      "outputs": [
        {
          "output_type": "stream",
          "name": "stdout",
          "text": [
            "[[ 0.  1.  2.  3.  4.  5.]\n",
            " [ 6.  7.  8.  9. 10. 11.]\n",
            " [12. 13. 14. 15. 16. 17.]\n",
            " [18. 19. 20. 21. 22. 23.]\n",
            " [24. 25. 26. 27. 28. 29.]\n",
            " [30. 31. 32. 33. 34. 35.]]\n"
          ]
        }
      ]
    },
    {
      "cell_type": "code",
      "source": [
        "I6 = np.identity(6)\n",
        "print(I6)\n"
      ],
      "metadata": {
        "colab": {
          "base_uri": "https://localhost:8080/"
        },
        "id": "at4s9KrVbA3D",
        "outputId": "336fa6ce-5612-4549-89e6-22b378e827e8"
      },
      "execution_count": 13,
      "outputs": [
        {
          "output_type": "stream",
          "name": "stdout",
          "text": [
            "[[1. 0. 0. 0. 0. 0.]\n",
            " [0. 1. 0. 0. 0. 0.]\n",
            " [0. 0. 1. 0. 0. 0.]\n",
            " [0. 0. 0. 1. 0. 0.]\n",
            " [0. 0. 0. 0. 1. 0.]\n",
            " [0. 0. 0. 0. 0. 1.]]\n"
          ]
        }
      ]
    },
    {
      "cell_type": "code",
      "source": [
        "A = A + I6\n",
        "print(A)\n"
      ],
      "metadata": {
        "colab": {
          "base_uri": "https://localhost:8080/"
        },
        "id": "2jdFcDKzbTUD",
        "outputId": "51eff6bb-e672-42e3-cba5-2479116efb5b"
      },
      "execution_count": 14,
      "outputs": [
        {
          "output_type": "stream",
          "name": "stdout",
          "text": [
            "[[ 1.  1.  2.  3.  4.  5.]\n",
            " [ 6.  8.  8.  9. 10. 11.]\n",
            " [12. 13. 15. 15. 16. 17.]\n",
            " [18. 19. 20. 22. 22. 23.]\n",
            " [24. 25. 26. 27. 29. 29.]\n",
            " [30. 31. 32. 33. 34. 36.]]\n"
          ]
        }
      ]
    },
    {
      "cell_type": "code",
      "source": [
        "vecB = np.array([1., 2., 3., 4., 5., 6.])\n",
        "C = A.dot(vecB)\n",
        "print(C)\n"
      ],
      "metadata": {
        "colab": {
          "base_uri": "https://localhost:8080/"
        },
        "id": "DGZL-TlGbnHZ",
        "outputId": "dcc3c51c-a17d-4382-ab48-640981634aa9"
      },
      "execution_count": 15,
      "outputs": [
        {
          "output_type": "stream",
          "name": "stdout",
          "text": [
            "[ 71. 198. 325. 452. 579. 706.]\n"
          ]
        }
      ]
    },
    {
      "cell_type": "code",
      "source": [
        "D = np.array([[1., 2., 3., 4., 5., 6.], [1., 0., 1., 0., 1., 0.]])\n",
        "print(D)\n"
      ],
      "metadata": {
        "colab": {
          "base_uri": "https://localhost:8080/"
        },
        "id": "0hMhjZAab1Gy",
        "outputId": "ca25a5fe-4542-4971-95ef-ebdd8b945141"
      },
      "execution_count": 16,
      "outputs": [
        {
          "output_type": "stream",
          "name": "stdout",
          "text": [
            "[[1. 2. 3. 4. 5. 6.]\n",
            " [1. 0. 1. 0. 1. 0.]]\n"
          ]
        }
      ]
    },
    {
      "cell_type": "code",
      "source": [
        "F = np.array([[1., 1.], [2., 0.], [3., 1.], [4., 0.], [5., 1.], [6., 0.]])\n",
        "G = A.dot(F)\n",
        "print(F)\n"
      ],
      "metadata": {
        "colab": {
          "base_uri": "https://localhost:8080/"
        },
        "id": "d9r0INeWb9Zq",
        "outputId": "6eb83b4e-7e73-4d56-c2d4-174385e14cd5"
      },
      "execution_count": 17,
      "outputs": [
        {
          "output_type": "stream",
          "name": "stdout",
          "text": [
            "[[1. 1.]\n",
            " [2. 0.]\n",
            " [3. 1.]\n",
            " [4. 0.]\n",
            " [5. 1.]\n",
            " [6. 0.]]\n"
          ]
        }
      ]
    },
    {
      "cell_type": "code",
      "source": [
        "import numpy as np\n",
        "A = np.array([[1,1], [1,0]])\n",
        "b = np.array([1, 0])\n",
        "n = 10\n",
        "\n",
        "for i in range(n):\n",
        "    b = A.dot(b)\n",
        "    print(b)\n"
      ],
      "metadata": {
        "colab": {
          "base_uri": "https://localhost:8080/"
        },
        "id": "zQtF9-yPdRHj",
        "outputId": "e5ed82e1-0a77-4db3-c898-6fc368386cd5"
      },
      "execution_count": 18,
      "outputs": [
        {
          "output_type": "stream",
          "name": "stdout",
          "text": [
            "[1 1]\n",
            "[2 1]\n",
            "[3 2]\n",
            "[5 3]\n",
            "[8 5]\n",
            "[13  8]\n",
            "[21 13]\n",
            "[34 21]\n",
            "[55 34]\n",
            "[89 55]\n"
          ]
        }
      ]
    },
    {
      "cell_type": "code",
      "source": [
        "# Import the necessary library for symbolic math (assuming sympy based on 'sp')\n",
        "# If you don't have sympy installed, run: !pip install sympy\n",
        "import sympy as sp\n",
        "\n",
        "# Define the symbolic variables x1, x2, x3, and x4\n",
        "x1, x2, x3, x4 = sp.symbols('x1 x2 x3 x4')\n",
        "\n",
        "pt1 = x4 + 610 - 450 - x1        # => x4 + 160 - x1 = 0\n",
        "pt2 = x1 + 400 - x2 - 640        # => x1 - x2 - 240 = 0\n",
        "pt3 = x2 + 600 - x3              # => x2 + 600 - x3 = 0\n",
        "pt4 = x3 - x4 - 520              # => x3 - x4 - 520 = 0\n",
        "\n",
        "# Solve the system of equations\n",
        "nghiem = sp.solve((pt1, pt2, pt3, pt4), (x1, x2, x3, x4))\n",
        "\n",
        "# Print the solution\n",
        "print(nghiem)"
      ],
      "metadata": {
        "colab": {
          "base_uri": "https://localhost:8080/"
        },
        "id": "Hv17gS-MdijC",
        "outputId": "37daed6c-743b-4cc7-e6ba-7286170eeb11"
      },
      "execution_count": 20,
      "outputs": [
        {
          "output_type": "stream",
          "name": "stdout",
          "text": [
            "{x1: x4 + 160, x2: x4 - 80, x3: x4 + 520}\n"
          ]
        }
      ]
    },
    {
      "cell_type": "code",
      "source": [
        "A = np.matrix([[-1, 0, 0, 1],\n",
        "               [1, -1, 0, 0],\n",
        "               [0, 1, -1, 0],\n",
        "               [0, 0, 1, -1]])\n",
        "print(A)"
      ],
      "metadata": {
        "colab": {
          "base_uri": "https://localhost:8080/"
        },
        "id": "B7PJLcBWeY7y",
        "outputId": "ca4fe4ea-cd58-479d-8ab2-7373e41ce2ac"
      },
      "execution_count": 26,
      "outputs": [
        {
          "output_type": "stream",
          "name": "stdout",
          "text": [
            "[[-1  0  0  1]\n",
            " [ 1 -1  0  0]\n",
            " [ 0  1 -1  0]\n",
            " [ 0  0  1 -1]]\n"
          ]
        }
      ]
    },
    {
      "cell_type": "markdown",
      "source": [
        "# BÀI TẬP VỀ NHÀ"
      ],
      "metadata": {
        "id": "JW2AP4X6ev2h"
      }
    },
    {
      "cell_type": "markdown",
      "source": [
        "BÀI 1"
      ],
      "metadata": {
        "id": "3EYgbNQwgRFJ"
      }
    },
    {
      "cell_type": "code",
      "source": [
        "# CÂU1:\n",
        "import numpy as np\n",
        "\n",
        "A = np.array([[1, -1], [1, 1]])\n",
        "b = np.array([-2, 6])\n",
        "solution = np.linalg.solve(A, b)\n",
        "print(\"Giao điểm (x, y):\", solution)  # Kết quả: (2.0, 4.0)\n",
        "A = np.array([[1, -1, 0], [0, 1, 0], [0, 0, 1]])\n",
        "b = np.array([2, -2, 3])\n",
        "solution = np.linalg.solve(A, b)\n",
        "print(\"Giao điểm (x, y, z):\", solution)  # Kết quả: (0.0, -2.0, 3.0)\n",
        "roots = [1, 2, 3]\n",
        "coefficients = np.poly(roots)\n",
        "print(\"Hệ số đa thức:\", coefficients)  # [1, -6, 11, -6] tương ứng x³ -6x² +11x -6\n",
        "A = np.array([[1, -1], [1, 1]])\n",
        "b = np.array([-2, 6])\n",
        "solution = np.linalg.solve(A, b)\n",
        "print(\"Giao điểm (x, y):\", solution)  # Kết quả: (2.0, 4.0)\n",
        "A = np.array([[1, -1, 0], [0, 1, 0], [0, 0, 1]])\n",
        "b = np.array([2, -2, 3])\n",
        "solution = np.linalg.solve(A, b)\n",
        "print(\"Giao điểm (x, y, z):\", solution)  # Kết quả: (0.0, -2.0, 3.0)\n",
        "roots = [1, 2, 3]\n",
        "coefficients = np.poly(roots)\n",
        "print(\"Hệ số đa thức:\", coefficients)  # [1, -6, 11, -6] tương ứng x³ -6x² +11x -6"
      ],
      "metadata": {
        "colab": {
          "base_uri": "https://localhost:8080/"
        },
        "id": "1ndQXNLYethp",
        "outputId": "f2ddbfdb-0a7d-4ab9-9acc-2c622cdf806e"
      },
      "execution_count": 29,
      "outputs": [
        {
          "output_type": "stream",
          "name": "stdout",
          "text": [
            "Giao điểm (x, y): [2. 4.]\n",
            "Giao điểm (x, y, z): [ 0. -2.  3.]\n",
            "Hệ số đa thức: [ 1. -6. 11. -6.]\n",
            "Giao điểm (x, y): [2. 4.]\n",
            "Giao điểm (x, y, z): [ 0. -2.  3.]\n",
            "Hệ số đa thức: [ 1. -6. 11. -6.]\n"
          ]
        }
      ]
    },
    {
      "cell_type": "markdown",
      "source": [
        "BÀI 2:\n"
      ],
      "metadata": {
        "id": "_-r-ftBLgTzZ"
      }
    },
    {
      "cell_type": "code",
      "source": [
        "from sympy import symbols, Eq, solve\n",
        "\n",
        "x, y = symbols('x y')\n",
        "eq1 = Eq(x - y, -2)\n",
        "eq2 = Eq(x + y, 6)\n",
        "solution = solve((eq1, eq2), (x, y))\n",
        "print(solution)  # {x: 2, y: 4}\n",
        "x, y, z = symbols('x y z')\n",
        "eq1 = Eq(x - y, 2)\n",
        "eq2 = Eq(y, -2)\n",
        "eq3 = Eq(z, 3)\n",
        "solution = solve((eq1, eq2, eq3), (x, y, z))\n",
        "print(solution)  # {x: 0, y: -2, z: 3}\n",
        "from sympy import poly, roots\n",
        "\n",
        "x = symbols('x')\n",
        "p = poly((x-1)*(x-2)*(x-3), x)\n",
        "print(\"Đa thức:\", p.as_expr())  # x³ - 6x² + 11x - 6"
      ],
      "metadata": {
        "colab": {
          "base_uri": "https://localhost:8080/"
        },
        "id": "x_CGxOG4fszZ",
        "outputId": "f6cf40be-d30a-4d4b-a12d-1fe0c8740196"
      },
      "execution_count": 30,
      "outputs": [
        {
          "output_type": "stream",
          "name": "stdout",
          "text": [
            "{x: 2, y: 4}\n",
            "{x: 0, y: -2, z: 3}\n",
            "Đa thức: x**3 - 6*x**2 + 11*x - 6\n"
          ]
        }
      ]
    },
    {
      "cell_type": "markdown",
      "source": [
        "BÀI 3:\n"
      ],
      "metadata": {
        "id": "qaE8mI_gghkZ"
      }
    },
    {
      "cell_type": "code",
      "source": [
        "def matrix_power(F, k):\n",
        "    result = np.eye(2, dtype=int)  # Ma trận đơn vị\n",
        "    for _ in range(k):\n",
        "        result = np.dot(result, F)\n",
        "    return result\n",
        "\n",
        "F = np.array([[1,1],[0,0]])\n",
        "k = 5\n",
        "F_k = matrix_power(F, k)\n",
        "print(f\"F^{k} =\\n{F_k}\")\n",
        "# Kết quả sẽ chứa Fib(k+1), Fib(k), Fib(k-1)"
      ],
      "metadata": {
        "colab": {
          "base_uri": "https://localhost:8080/"
        },
        "id": "j_OME83DgOzR",
        "outputId": "e0346d22-6075-42d1-d4b0-75a3b6e64764"
      },
      "execution_count": 31,
      "outputs": [
        {
          "output_type": "stream",
          "name": "stdout",
          "text": [
            "F^5 =\n",
            "[[1 1]\n",
            " [0 0]]\n"
          ]
        }
      ]
    }
  ]
}