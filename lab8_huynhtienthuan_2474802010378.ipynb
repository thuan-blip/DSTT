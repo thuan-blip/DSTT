{
  "nbformat": 4,
  "nbformat_minor": 0,
  "metadata": {
    "colab": {
      "provenance": []
    },
    "kernelspec": {
      "name": "python3",
      "display_name": "Python 3"
    },
    "language_info": {
      "name": "python"
    }
  },
  "cells": [
    {
      "cell_type": "code",
      "execution_count": 1,
      "metadata": {
        "colab": {
          "base_uri": "https://localhost:8080/"
        },
        "id": "uyLWd6Mrjx7w",
        "outputId": "76472e60-931d-4511-9441-64e3af5848f2"
      },
      "outputs": [
        {
          "output_type": "stream",
          "name": "stdout",
          "text": [
            "[ 18 -11   9  -8]\n",
            "[ 9.  -5.5  4.5 -4. ]\n"
          ]
        }
      ],
      "source": [
        "import numpy as np\n",
        "u = np.array([2, -1, 5, 0])\n",
        "v = np.array([4, 3, 1, -1])\n",
        "w = np.array([-6, 2, 0, 3])\n",
        "\n",
        "x = 2*u - (v + 3*w)\n",
        "print(x)\n",
        "\n",
        "x = 0.5 * (2*u - v - 3*w)\n",
        "print(x)"
      ]
    },
    {
      "cell_type": "code",
      "source": [
        "import numpy as np\n",
        "from numpy import linalg\n",
        "\n",
        "A = np.array([[0, -1, 3],\n",
        "              [1, 1, 1],\n",
        "              [4, 2, 2]])\n",
        "B = np.array([-1, -2, -2])\n",
        "\n",
        "X = np.linalg.solve(A, B)\n",
        "print(X)\n"
      ],
      "metadata": {
        "colab": {
          "base_uri": "https://localhost:8080/"
        },
        "id": "HmhqlP9Jkbmg",
        "outputId": "69ef9a03-f97d-4f8a-f460-47c8ba21bfd1"
      },
      "execution_count": 2,
      "outputs": [
        {
          "output_type": "stream",
          "name": "stdout",
          "text": [
            "[ 1. -2. -1.]\n"
          ]
        }
      ]
    },
    {
      "cell_type": "code",
      "source": [
        "import numpy as np\n",
        "from numpy import linalg as LA\n",
        "\n",
        "# Khởi tạo ma trận\n",
        "A = np.matrix([[1, 0], [0, 0]])\n",
        "B = np.matrix([[0, 0], [0, 1]])\n",
        "\n",
        "# Phương pháp 1: Kiểm tra khả nghịch bằng inv()\n",
        "print(\"Phương pháp 1: Kiểm tra bằng inv()\")\n",
        "\n",
        "try:\n",
        "    print(\"inv(A):\")\n",
        "    print(LA.inv(A))\n",
        "except LA.LinAlgError as e:\n",
        "    print(\"inv(A) error:\", e)\n",
        "\n",
        "try:\n",
        "    print(\"inv(B):\")\n",
        "    print(LA.inv(B))\n",
        "except LA.LinAlgError as e:\n",
        "    print(\"inv(B) error:\", e)\n",
        "\n",
        "try:\n",
        "    print(\"inv(A + B):\")\n",
        "    print(LA.inv(A + B))\n",
        "except LA.LinAlgError as e:\n",
        "    print(\"inv(A+B) error:\", e)\n",
        "\n",
        "# Phương pháp 2: Tính định thức bằng det()\n",
        "print(\"\\nPhương pháp 2: Tính bằng det()\")\n",
        "\n",
        "print(\"det(A):\", LA.det(A))\n",
        "print(\"det(B):\", LA.det(B))\n",
        "print(\"det(A + B):\", LA.det(A + B))\n"
      ],
      "metadata": {
        "colab": {
          "base_uri": "https://localhost:8080/"
        },
        "id": "OrKd9ES7kopI",
        "outputId": "28eea63b-3c06-4ef0-c011-37cfed133931"
      },
      "execution_count": 3,
      "outputs": [
        {
          "output_type": "stream",
          "name": "stdout",
          "text": [
            "Phương pháp 1: Kiểm tra bằng inv()\n",
            "inv(A):\n",
            "inv(A) error: Singular matrix\n",
            "inv(B):\n",
            "inv(B) error: Singular matrix\n",
            "inv(A + B):\n",
            "[[1. 0.]\n",
            " [0. 1.]]\n",
            "\n",
            "Phương pháp 2: Tính bằng det()\n",
            "det(A): 0.0\n",
            "det(B): 0.0\n",
            "det(A + B): 1.0\n"
          ]
        }
      ]
    },
    {
      "cell_type": "code",
      "source": [
        "import sympy as sp\n",
        "\n",
        "# Tạo các biến hình thức\n",
        "x, y = sp.symbols('x y')\n",
        "x1, y1 = sp.symbols('x1 y1')\n",
        "x2, y2 = sp.symbols('x2 y2')\n",
        "c = sp.symbols('c')\n",
        "\n",
        "# Khai báo các ma trận đối xứng\n",
        "A = sp.Matrix([[x, y], [y, x]])\n",
        "A1 = sp.Matrix([[x1, y1], [y1, x1]])\n",
        "A2 = sp.Matrix([[x2, y2], [y2, x2]])\n",
        "\n",
        "# 1. Chuyển vị của A1\n",
        "print(\"A1.T:\")\n",
        "print(A1.T)\n",
        "\n",
        "# 2. Chuyển vị của A1 + A2\n",
        "print(\"\\n(A1 + A2).T:\")\n",
        "print((A1 + A2).T)\n",
        "\n",
        "# 3. So sánh chuyển vị của (A1 + A2) với A1 + A2\n",
        "print(\"\\nIs (A1 + A2).T equal to A1 + A2?\")\n",
        "print(((A1 + A2).T).equals(A1 + A2))\n",
        "\n",
        "# 4. Nhân A với số thực c\n",
        "print(\"\\nc * A:\")\n",
        "print(c * A)\n",
        "\n",
        "# 5. Kiểm tra tính đối xứng của c*A\n",
        "print(\"\\nIs (c*A).T equal to c*A?\")\n",
        "print(((c * A).T).equals(c * A))\n"
      ],
      "metadata": {
        "colab": {
          "base_uri": "https://localhost:8080/"
        },
        "id": "oNCKeaFak8XG",
        "outputId": "d874786b-920d-4cf0-95fd-69c29dbf4c83"
      },
      "execution_count": 4,
      "outputs": [
        {
          "output_type": "stream",
          "name": "stdout",
          "text": [
            "A1.T:\n",
            "Matrix([[x1, y1], [y1, x1]])\n",
            "\n",
            "(A1 + A2).T:\n",
            "Matrix([[x1 + x2, y1 + y2], [y1 + y2, x1 + x2]])\n",
            "\n",
            "Is (A1 + A2).T equal to A1 + A2?\n",
            "True\n",
            "\n",
            "c * A:\n",
            "Matrix([[c*x, c*y], [c*y, c*x]])\n",
            "\n",
            "Is (c*A).T equal to c*A?\n",
            "True\n"
          ]
        }
      ]
    },
    {
      "cell_type": "code",
      "source": [
        "import numpy as np\n",
        "from numpy import linalg as LA\n",
        "\n",
        "# Cơ sở 3 vector\n",
        "v1 = np.array([1, 2, 3])\n",
        "v2 = np.array([0, 1, 2])\n",
        "v3 = np.array([-1, 0, 1])\n",
        "\n",
        "# Tạo ma trận A có 3 vector là cột\n",
        "A = np.column_stack([v1, v2, v3])\n",
        "\n",
        "# Trường hợp a: b = (1, 1, 1)\n",
        "b1 = np.array([1, 1, 1])\n",
        "try:\n",
        "    x1 = LA.solve(A, b1)\n",
        "    print(\"a. Hệ có nghiệm, vector là tổ hợp tuyến tính:\")\n",
        "    print(x1)\n",
        "except LA.LinAlgError as e:\n",
        "    print(\"a. Hệ vô nghiệm:\", e)\n",
        "\n",
        "# Trường hợp b: b = (1, -2, 2)\n",
        "b2 = np.array([1, -2, 2])\n",
        "try:\n",
        "    x2 = LA.solve(A, b2)\n",
        "    print(\"b. Hệ có nghiệm, vector là tổ hợp tuyến tính:\")\n",
        "    print(x2)\n",
        "except LA.LinAlgError as e:\n",
        "    print(\"b. Hệ vô nghiệm:\", e)\n"
      ],
      "metadata": {
        "colab": {
          "base_uri": "https://localhost:8080/"
        },
        "id": "oGWvYQ0-lH9f",
        "outputId": "6e8f8729-ef3f-4b01-bcdf-5de50b1a168b"
      },
      "execution_count": 5,
      "outputs": [
        {
          "output_type": "stream",
          "name": "stdout",
          "text": [
            "a. Hệ có nghiệm, vector là tổ hợp tuyến tính:\n",
            "[ 5.00000000e-01 -1.66533454e-16 -5.00000000e-01]\n",
            "b. Hệ có nghiệm, vector là tổ hợp tuyến tính:\n",
            "[ 3.15251974e+16 -6.30503948e+16  3.15251974e+16]\n"
          ]
        }
      ]
    },
    {
      "cell_type": "code",
      "source": [
        "import sympy as sp\n",
        "\n",
        "# Khai báo các ẩn\n",
        "c1, c2, c3 = sp.symbols('c1 c2 c3')\n",
        "\n",
        "# Hệ phương trình\n",
        "eq1 = c1 - 2*c3\n",
        "eq2 = 2*c1 + c2\n",
        "eq3 = 3*c1 + 2*c2 + c3\n",
        "\n",
        "# Giải hệ\n",
        "solution = sp.solve([eq1, eq2, eq3], [c1, c2, c3])\n",
        "print(solution)\n"
      ],
      "metadata": {
        "colab": {
          "base_uri": "https://localhost:8080/"
        },
        "id": "T0A0KVmXlYXd",
        "outputId": "c2391626-0c2d-40c7-8c1e-fec353615565"
      },
      "execution_count": 6,
      "outputs": [
        {
          "output_type": "stream",
          "name": "stdout",
          "text": [
            "{c1: 0, c2: 0, c3: 0}\n"
          ]
        }
      ]
    },
    {
      "cell_type": "code",
      "source": [
        "import sympy as sp\n",
        "\n",
        "# Khai báo biến\n",
        "c1, c2 = sp.symbols('c1 c2')  # c1 ~ a1, c2 ~ a2\n",
        "u1, u2 = sp.symbols('u1 u2')\n",
        "\n",
        "# Giải hệ tổng quát\n",
        "sol1 = sp.solve([c1 + c2 - u1, c1 - c2 - u2], [c1, c2])\n",
        "print(sol1)\n"
      ],
      "metadata": {
        "colab": {
          "base_uri": "https://localhost:8080/"
        },
        "id": "HJRUL1Nclat1",
        "outputId": "86b7a48c-0d85-41b3-c5a0-f18726c86c4a"
      },
      "execution_count": 7,
      "outputs": [
        {
          "output_type": "stream",
          "name": "stdout",
          "text": [
            "{c1: u1/2 + u2/2, c2: u1/2 - u2/2}\n"
          ]
        }
      ]
    },
    {
      "cell_type": "code",
      "source": [
        "import numpy as np\n",
        "\n",
        "# Khởi tạo ma trận P: mỗi cột là một điểm (x, y)\n",
        "P = np.array([\n",
        "    [0, 0, 3, 3, 1, 1, 2, 2, 1, 1],   # tọa độ x\n",
        "    [0, 5, 5, 4, 4, 3, 3, 2, 2, 0]    # tọa độ y\n",
        "])\n",
        "\n",
        "# Vector dịch chuyển (delta x, delta y)\n",
        "vecdelta = np.array([4, 2])\n",
        "\n",
        "# Bước 1: Chuyển vị để mỗi điểm là một dòng\n",
        "P_T = P.T\n",
        "print(\"P.T =\\n\", P_T)\n",
        "\n",
        "# Bước 2: Cộng mỗi điểm với vecdelta\n",
        "P_T_shifted = P_T + vecdelta\n",
        "print(\"\\nP.T + vecdelta =\\n\", P_T_shifted)\n",
        "\n",
        "# Bước 3: Chuyển lại về dạng 2 hàng (x và y)\n",
        "P_caua = P_T_shifted.T\n",
        "print(\"\\nP_caua =\\n\", P_caua)\n"
      ],
      "metadata": {
        "colab": {
          "base_uri": "https://localhost:8080/"
        },
        "id": "yse-OVPvl3hO",
        "outputId": "3853a1c1-1744-48ec-81a0-00eb619ecacd"
      },
      "execution_count": 8,
      "outputs": [
        {
          "output_type": "stream",
          "name": "stdout",
          "text": [
            "P.T =\n",
            " [[0 0]\n",
            " [0 5]\n",
            " [3 5]\n",
            " [3 4]\n",
            " [1 4]\n",
            " [1 3]\n",
            " [2 3]\n",
            " [2 2]\n",
            " [1 2]\n",
            " [1 0]]\n",
            "\n",
            "P.T + vecdelta =\n",
            " [[4 2]\n",
            " [4 7]\n",
            " [7 7]\n",
            " [7 6]\n",
            " [5 6]\n",
            " [5 5]\n",
            " [6 5]\n",
            " [6 4]\n",
            " [5 4]\n",
            " [5 2]]\n",
            "\n",
            "P_caua =\n",
            " [[4 4 7 7 5 5 6 6 5 5]\n",
            " [2 7 7 6 6 5 5 4 4 2]]\n"
          ]
        }
      ]
    },
    {
      "cell_type": "code",
      "source": [
        "import numpy as np\n",
        "\n",
        "# Tập hợp điểm gốc (x, y)\n",
        "P = np.array([\n",
        "    [0, 0, 3, 3, 1, 1, 2, 2, 1, 1],\n",
        "    [0, 5, 5, 4, 4, 3, 3, 2, 2, 0]\n",
        "])\n",
        "\n",
        "# Vector dịch chuyển\n",
        "vecdelta = np.array([4, -2])\n",
        "\n",
        "# Ma trận biến đổi co giãn\n",
        "matran_biendoi = np.array([\n",
        "    [1.0, 0.0],\n",
        "    [0.0, 2.0]\n",
        "])\n",
        "\n",
        "# Biến đổi: (P.T @ scale + vecdelta).T\n",
        "P_caub = (P.T @ matran_biendoi + vecdelta).T\n",
        "\n",
        "# In kết quả\n",
        "print(P_caub)\n"
      ],
      "metadata": {
        "colab": {
          "base_uri": "https://localhost:8080/"
        },
        "id": "PQ6oygyHl5fO",
        "outputId": "a03020a7-afa1-4477-c7ec-3f31d1c915d9"
      },
      "execution_count": 9,
      "outputs": [
        {
          "output_type": "stream",
          "name": "stdout",
          "text": [
            "[[ 4.  4.  7.  7.  5.  5.  6.  6.  5.  5.]\n",
            " [-2.  8.  8.  6.  6.  4.  4.  2.  2. -2.]]\n"
          ]
        }
      ]
    },
    {
      "cell_type": "code",
      "source": [
        "import numpy as np\n",
        "\n",
        "# Dữ liệu gốc\n",
        "P = np.array([\n",
        "    [0, 0, 3, 3, 1, 1, 2, 2, 1, 1],\n",
        "    [0, 5, 5, 4, 4, 3, 3, 2, 2, 0]\n",
        "])\n",
        "\n",
        "# Vector dịch chuyển (tọa độ mới gốc: (4, -2))\n",
        "vecdelta = np.array([4, -2])\n",
        "\n",
        "# Ma trận biến đổi: đối xứng qua trục y\n",
        "matran_biendoi = np.array([\n",
        "    [-1, 0],\n",
        "    [0, 1]\n",
        "])\n",
        "\n",
        "# Áp dụng biến đổi\n",
        "P_cauc = (P.T @ matran_biendoi + vecdelta).T\n",
        "\n",
        "# In kết quả\n",
        "print(P_cauc)\n"
      ],
      "metadata": {
        "colab": {
          "base_uri": "https://localhost:8080/"
        },
        "id": "h4L0fEfxmGDF",
        "outputId": "0e2fbaa9-8a47-446d-ee8e-5f63608e9ebd"
      },
      "execution_count": 10,
      "outputs": [
        {
          "output_type": "stream",
          "name": "stdout",
          "text": [
            "[[ 4  4  1  1  3  3  2  2  3  3]\n",
            " [-2  3  3  2  2  1  1  0  0 -2]]\n"
          ]
        }
      ]
    },
    {
      "cell_type": "code",
      "source": [
        "import numpy as np\n",
        "\n",
        "# Tọa độ ban đầu\n",
        "P = np.array([\n",
        "    [0,0,3,3,1,1,2,2,1,1],\n",
        "    [0,5,5,4,4,3,3,2,2,0]\n",
        "])\n",
        "\n",
        "# Vector tịnh tiến\n",
        "vecdelta = np.array([4, -2])\n",
        "\n",
        "# Ma trận shearing (L=1.5, M=0)\n",
        "shear_matrix = np.array([\n",
        "    [1, 1.5],\n",
        "    [0, 1]\n",
        "])\n",
        "\n",
        "# Thực hiện biến đổi\n",
        "P_caud = (P.T @ shear_matrix + vecdelta).T\n",
        "\n",
        "# In kết quả\n",
        "print(P_caud)\n"
      ],
      "metadata": {
        "colab": {
          "base_uri": "https://localhost:8080/"
        },
        "id": "e8WdeY3EmzNF",
        "outputId": "dca60d0d-d2ea-4e4b-8bf0-c37cf9896c40"
      },
      "execution_count": 11,
      "outputs": [
        {
          "output_type": "stream",
          "name": "stdout",
          "text": [
            "[[ 4.   4.   7.   7.   5.   5.   6.   6.   5.   5. ]\n",
            " [-2.   3.   7.5  6.5  3.5  2.5  4.   3.   1.5 -0.5]]\n"
          ]
        }
      ]
    },
    {
      "cell_type": "code",
      "source": [
        "import sympy as sp\n",
        "from sympy import lambdify\n",
        "\n",
        "# Khai báo các biến đầu vào\n",
        "x1, x2, x3 = sp.symbols('x1 x2 x3')\n",
        "a, b, c = sp.symbols('a b c')   # vector X = (a, b, c)\n",
        "d, e, f = sp.symbols('d e f')   # vector Y = (d, e, f)\n",
        "q = sp.symbols('q')             # hệ số vô hướng\n",
        "\n",
        "# Biểu thức hàm tuyến tính f1\n",
        "bieuthuc1 = x1 - x2 + x3\n",
        "f1 = lambdify([x1, x2, x3], bieuthuc1, 'sympy')\n",
        "\n",
        "# Tính f1 cho từng trường hợp\n",
        "f1_X = f1(a, b, c)\n",
        "f1_Y = f1(d, e, f)\n",
        "f1_XplusY = f1(a + d, b + e, c + f)\n",
        "\n",
        "# Kiểm tra tính cộng: f(X + Y) = f(X) + f(Y)\n",
        "tinh_cong = (f1_X + f1_Y).equals(f1_XplusY)\n",
        "\n",
        "# Kiểm tra tính đồng nhất: f(qX + Y) = qf(X) + f(Y)\n",
        "tinh_dong_nhat = (q*f1_X + f1_Y).equals(f1(q*a + d, q*b + e, q*c + f).expand())\n",
        "\n",
        "# In kết quả\n",
        "print(\"f1(X) =\", f1_X)\n",
        "print(\"f1(Y) =\", f1_Y)\n",
        "print(\"f1(X + Y) =\", f1_XplusY)\n",
        "print(\"f1(X) + f1(Y) == f1(X + Y)?\", tinh_cong)\n",
        "print(\"q*f1(X) + f1(Y) == f1(q*X + Y)?\", tinh_dong_nhat)\n"
      ],
      "metadata": {
        "colab": {
          "base_uri": "https://localhost:8080/"
        },
        "id": "o3YZxcOxnuwt",
        "outputId": "38353467-68c3-40b6-a7d4-b52cf6f148be"
      },
      "execution_count": 12,
      "outputs": [
        {
          "output_type": "stream",
          "name": "stdout",
          "text": [
            "f1(X) = a - b + c\n",
            "f1(Y) = d - e + f\n",
            "f1(X + Y) = a - b + c + d - e + f\n",
            "f1(X) + f1(Y) == f1(X + Y)? True\n",
            "q*f1(X) + f1(Y) == f1(q*X + Y)? True\n"
          ]
        }
      ]
    },
    {
      "cell_type": "code",
      "source": [
        "import sympy as sp\n",
        "from sympy import lambdify\n",
        "\n",
        "# Khai báo các biến\n",
        "x1, x2, x3 = sp.symbols('x1 x2 x3')\n",
        "a, b, c = sp.symbols('a b c')   # X = (a, b, c)\n",
        "d, e, f = sp.symbols('d e f')   # Y = (d, e, f)\n",
        "q = sp.symbols('q')\n",
        "\n",
        "# Biểu thức f2\n",
        "bieuthuc2 = 2 * x2 + 3 * x3\n",
        "f2 = lambdify([x1, x2, x3], bieuthuc2, 'sympy')\n",
        "\n",
        "# Kiểm tra tính đồng nhất: f(qX + Y) == qf(X) + f(Y)\n",
        "lhs = q * f2(a, b, c) + f2(d, e, f)\n",
        "rhs = f2(q * a + d, q * b + e, q * c + f)\n",
        "check = lhs.equals(rhs.expand())\n",
        "\n",
        "print(\"q*f2(X) + f2(Y) == f2(q*X + Y)?\", check)\n"
      ],
      "metadata": {
        "colab": {
          "base_uri": "https://localhost:8080/"
        },
        "id": "9q_7brvsn-r0",
        "outputId": "440a1c4e-8e79-4b8e-aeaf-90b674ebd504"
      },
      "execution_count": 13,
      "outputs": [
        {
          "output_type": "stream",
          "name": "stdout",
          "text": [
            "q*f2(X) + f2(Y) == f2(q*X + Y)? True\n"
          ]
        }
      ]
    },
    {
      "cell_type": "code",
      "source": [
        "import numpy as np\n",
        "\n",
        "# Các vector ảnh f(u1), f(u2)\n",
        "fu1 = np.array([1, 1, 2])\n",
        "fu2 = np.array([4, 2, 1])\n",
        "\n",
        "# Tạo biểu thức f(u) = a*fu1 + b*fu2\n",
        "a, b, x, y = sp.symbols('a b x y')\n",
        "fu_expr = a*fu1 + b*fu2\n",
        "print(\"f(u) theo a, b:\")\n",
        "print(fu_expr)\n",
        "\n",
        "# Thay a = -5x + 3y, b = 2x - y vào\n",
        "a_val =_\n"
      ],
      "metadata": {
        "colab": {
          "base_uri": "https://localhost:8080/"
        },
        "id": "r5S3pUd0oALs",
        "outputId": "267ad4f0-536f-45f9-f99a-174c697dc067"
      },
      "execution_count": 14,
      "outputs": [
        {
          "output_type": "stream",
          "name": "stdout",
          "text": [
            "f(u) theo a, b:\n",
            "[a + 4*b a + 2*b 2*a + b]\n"
          ]
        }
      ]
    },
    {
      "cell_type": "code",
      "source": [
        "import sympy as sp\n",
        "\n",
        "# Khai báo các vector cơ sở\n",
        "v1 = sp.Matrix([-1, 1])\n",
        "v2 = sp.Matrix([1, 0])\n",
        "\n",
        "w1 = sp.Matrix([1, 2])\n",
        "w2 = sp.Matrix([1, 3])\n",
        "\n",
        "# Định nghĩa ánh xạ f(x, y) = (x - y, x)\n",
        "def f(vec):\n",
        "    x, y = vec[0], vec[1]\n",
        "    retu\n"
      ],
      "metadata": {
        "id": "Uy_25P3moZ5s"
      },
      "execution_count": 16,
      "outputs": []
    },
    {
      "cell_type": "code",
      "source": [
        "import numpy as np\n",
        "import math\n",
        "from scipy import linalg as LA\n",
        "\n",
        "# Tạo ma trận quay góc pi/4\n",
        "theta = math.pi / 4\n",
        "cos_t = math.cos(theta)\n",
        "sin_t = math.sin(theta)\n",
        "\n",
        "# Ma trận B quay (không chuẩn hóa từng hàng, chỉ đúng góc quay)\n",
        "B = np.array([\n",
        "    [cos_t, sin_t],\n",
        "    [-sin_t, cos_t]\n",
        "])\n",
        "\n",
        "print(\"Ma trận B:\")\n",
        "print(B)\n",
        "\n",
        "# Kiểm tra trực giao: B^T * B ≈ I\n",
        "print(\"B.T @ B:\")\n",
        "print(B.T @ B)"
      ],
      "metadata": {
        "colab": {
          "base_uri": "https://localhost:8080/"
        },
        "id": "6voTHO52onrk",
        "outputId": "3812839c-d292-48b2-c3ff-a0e8c8a014a9"
      },
      "execution_count": 18,
      "outputs": [
        {
          "output_type": "stream",
          "name": "stdout",
          "text": [
            "Ma trận B:\n",
            "[[ 0.70710678  0.70710678]\n",
            " [-0.70710678  0.70710678]]\n",
            "B.T @ B:\n",
            "[[1.00000000e+00 1.01465364e-17]\n",
            " [1.01465364e-17 1.00000000e+00]]\n"
          ]
        }
      ]
    },
    {
      "cell_type": "code",
      "source": [
        "import sympy as sp\n",
        "\n",
        "x, y, z = sp.symbols('x y z')\n",
        "a, b, c = sp.symbols('a b c')\n",
        "f = sp.Matrix([x + y, z + 2, 0])\n",
        "\n",
        "# Kiểm tính cộng: f(u+v) = f(u) + f(v)?\n",
        "f1 = f.subs({x: a + x, y: b + y, z: c + z})\n",
        "f_sum = f.subs({x: a, y: b, z: c}) + f.subs({x: x, y: y, z: z})\n",
        "print(f1.equals(f_sum))  # False\n",
        "import numpy as np\n",
        "\n",
        "# Tập điểm F (ví dụ 10 điểm)\n",
        "F = np.array([\n",
        "    [1, 2, 3, 4],\n",
        "    [5, 6, 7, 8]\n",
        "])  # 2x4 điểm: x, y\n",
        "\n",
        "# Ma trận biến đổi\n",
        "T = np.array([\n",
        "    [0, 1],\n",
        "    [1, -1]\n",
        "])\n",
        "\n",
        "# Biến đổi: T * F\n",
        "F_new = T @ F\n",
        "print(\"Tập điểm sau biến đổi:\\n\", F_new)\n",
        "import sympy as sp\n",
        "\n",
        "x, y = sp.symbols('x y')\n",
        "a, b = sp.symbols('a b')\n",
        "u = sp.Matrix([x, y])\n",
        "v = sp.Matrix([a, b])\n",
        "\n",
        "def O(vec):\n",
        "    return sp.Matrix([vec[0] - vec[1], vec[0] + 2*vec[1]])\n",
        "\n",
        "# Tuyến tính nếu: O(u + v) = O(u) + O(v)\n",
        "is_linear = O(u + v).equals(O(u) + O(v))\n",
        "print(\"O có phải ánh xạ tuyến tính không?\", is_linear)  # True\n",
        "import sympy as sp\n",
        "\n",
        "x, y = sp.symbols('x y')\n",
        "a, b, c, d, e, f = 1, 4, 3, 0, 0, 0  # Ví dụ: x^2 + 4xy + 3y^2\n",
        "\n",
        "Q = sp.Matrix([[a, b/2],\n",
        "               [b/2, c]])\n",
        "\n",
        "vec = sp.Matrix([x, y])\n",
        "quad_form = (vec.T * Q * vec)[0]\n",
        "print(\"Dạng toàn phương:\", quad_form.expand())"
      ],
      "metadata": {
        "colab": {
          "base_uri": "https://localhost:8080/"
        },
        "id": "5Eh-1pdrpAGM",
        "outputId": "61159144-2321-4ddb-8ee7-5e6d9545a1f1"
      },
      "execution_count": 24,
      "outputs": [
        {
          "output_type": "stream",
          "name": "stdout",
          "text": [
            "False\n",
            "Tập điểm sau biến đổi:\n",
            " [[ 5  6  7  8]\n",
            " [-4 -4 -4 -4]]\n",
            "O có phải ánh xạ tuyến tính không? True\n",
            "Dạng toàn phương: x**2 + 4.0*x*y + 3*y**2\n"
          ]
        }
      ]
    },
    {
      "cell_type": "code",
      "source": [],
      "metadata": {
        "id": "uoxqolM9pFik"
      },
      "execution_count": null,
      "outputs": []
    }
  ]
}