{
  "nbformat": 4,
  "nbformat_minor": 0,
  "metadata": {
    "colab": {
      "provenance": []
    },
    "kernelspec": {
      "name": "python3",
      "display_name": "Python 3"
    },
    "language_info": {
      "name": "python"
    }
  },
  "cells": [
    {
      "cell_type": "code",
      "execution_count": 5,
      "metadata": {
        "colab": {
          "base_uri": "https://localhost:8080/"
        },
        "id": "vEWIQIrpg4JP",
        "outputId": "d8ad8b57-f093-49a4-ae3c-8173cce52de1"
      },
      "outputs": [
        {
          "output_type": "stream",
          "name": "stdout",
          "text": [
            "[ 1  5 30]\n"
          ]
        }
      ],
      "source": [
        "import numpy as np\n",
        "\n",
        "signals = np.array([[1, 2], [3, 4], [10, 0]])\n",
        "sample = np.array([3, -1])\n",
        "\n",
        "result = np.inner(signals, sample)\n",
        "print(result)\n"
      ]
    },
    {
      "cell_type": "code",
      "source": [
        "import numpy as np\n",
        "A = np.array([0,0,-1,2,3,-1,0,1,-1,-1])\n",
        "search_vector = np.array([0,1,-1])\n",
        "len(A), len(search_vector)\n",
        "(10, 3)"
      ],
      "metadata": {
        "colab": {
          "base_uri": "https://localhost:8080/"
        },
        "id": "AjMrqXPlhWfO",
        "outputId": "2bb662be-5aa0-4fec-f9c7-25c176d7cbf8"
      },
      "execution_count": 6,
      "outputs": [
        {
          "output_type": "execute_result",
          "data": {
            "text/plain": [
              "(10, 3)"
            ]
          },
          "metadata": {},
          "execution_count": 6
        }
      ]
    },
    {
      "cell_type": "code",
      "source": [
        "B = np.array([1])\n",
        "B = np.resize(B, (len(A)-len(search_vector)+1, len(search_vector)))\n",
        "B = np.asmatrix(B)\n",
        "for i in range(len(A)-len(search_vector)+1):\n",
        "    for j in range(len(search_vector)):\n",
        "        B[i, j] = A[i + j]"
      ],
      "metadata": {
        "id": "cl12NYomhbDU"
      },
      "execution_count": 8,
      "outputs": []
    },
    {
      "cell_type": "code",
      "source": [
        "C = np.inner(B, search_vector)\n",
        "for i in range(len(A)-len(search_vector)+1):\n",
        "    if (C[0, i] == np.inner(search_vector, search_vector)):\n",
        "        print(i, B[i])"
      ],
      "metadata": {
        "colab": {
          "base_uri": "https://localhost:8080/"
        },
        "id": "MJhOXwvmiAmW",
        "outputId": "341b3764-02d4-482d-9814-543cc007108b"
      },
      "execution_count": 9,
      "outputs": [
        {
          "output_type": "stream",
          "name": "stdout",
          "text": [
            "6 [[ 0  1 -1]]\n"
          ]
        }
      ]
    },
    {
      "cell_type": "code",
      "source": [
        "import numpy as np\n",
        "A = np.array([[0, 0, 1.0/2, 1.0/2],\n",
        "              [1.0/3, 0, 0, 0],\n",
        "              [1.0/3, 0, 0, 1.0/2],\n",
        "              [1.0/3, 1.0, 1.0/2, 0]])\n",
        "x = np.array([1, 1, 1, 1])\n",
        "x = np.dot(A, x)\n",
        "print(x)"
      ],
      "metadata": {
        "colab": {
          "base_uri": "https://localhost:8080/"
        },
        "id": "0QOC7105iD90",
        "outputId": "d97c26d2-b91d-4909-8250-5e2aaea7ae39"
      },
      "execution_count": 12,
      "outputs": [
        {
          "output_type": "stream",
          "name": "stdout",
          "text": [
            "[1.         0.33333333 0.83333333 1.83333333]\n"
          ]
        }
      ]
    },
    {
      "cell_type": "code",
      "source": [
        "x = np.array([1.0, 1.0, 1.0, 1.0])\n",
        "for i in range(10):\n",
        "    x = np.dot(A, x)\n",
        "    print(i+1, x)"
      ],
      "metadata": {
        "colab": {
          "base_uri": "https://localhost:8080/"
        },
        "id": "mUgw6vrVidHu",
        "outputId": "cf624ca3-de5f-4ab1-9517-a35824aba108"
      },
      "execution_count": 13,
      "outputs": [
        {
          "output_type": "stream",
          "name": "stdout",
          "text": [
            "1 [1.         0.33333333 0.83333333 1.83333333]\n",
            "2 [1.33333333 0.33333333 1.25       1.08333333]\n",
            "3 [1.16666667 0.44444444 0.98611111 1.40277778]\n",
            "4 [1.19444444 0.38888889 1.09027778 1.32638889]\n",
            "5 [1.20833333 0.39814815 1.06134259 1.33217593]\n",
            "6 [1.19675926 0.40277778 1.06886574 1.33159722]\n",
            "7 [1.20023148 0.39891975 1.06471836 1.3361304 ]\n",
            "8 [1.20042438 0.40007716 1.06814236 1.3313561 ]\n",
            "9 [1.19974923 0.40014146 1.06581951 1.3342898 ]\n",
            "10 [1.20005466 0.39991641 1.06706131 1.33296762]\n"
          ]
        }
      ]
    },
    {
      "cell_type": "code",
      "source": [
        "import numpy as np\n",
        "\n",
        "A = np.array([[0,   0,   1.0/2, 0.0],\n",
        "              [1.0/3, 0,   0,     0],\n",
        "              [1.0/3, 0,   0,     0.0],\n",
        "              [1.0/3, 1.0, 1.0/2, 0]])\n",
        "\n",
        "x = np.array([1.0, 1.0, 1.0, 1.0])\n",
        "\n",
        "for i in range(5):\n",
        "    x = np.dot(A, x)\n",
        "    print(i+1, x)"
      ],
      "metadata": {
        "colab": {
          "base_uri": "https://localhost:8080/"
        },
        "id": "aL_xBKaBifSt",
        "outputId": "8729e0a6-4a04-417b-b0bd-5d98ea74664a"
      },
      "execution_count": 14,
      "outputs": [
        {
          "output_type": "stream",
          "name": "stdout",
          "text": [
            "1 [0.5        0.33333333 0.33333333 1.83333333]\n",
            "2 [0.16666667 0.16666667 0.16666667 0.66666667]\n",
            "3 [0.08333333 0.05555556 0.05555556 0.30555556]\n",
            "4 [0.02777778 0.02777778 0.02777778 0.11111111]\n",
            "5 [0.01388889 0.00925926 0.00925926 0.05092593]\n"
          ]
        }
      ]
    },
    {
      "cell_type": "code",
      "source": [
        "import numpy as np\n",
        "\n",
        "x = np.array([1.0, 1.0, 1.0, 1.0])\n",
        "A = np.array([[0,     0,   1.0/2, 1/4.0],\n",
        "              [1.0/3, 0,   0,     1/4.0],\n",
        "              [1.0/3, 0,   0,     1/4.0],\n",
        "              [1.0/3, 1.0, 1.0/2, 1/4.0]])\n",
        "\n",
        "for i in range(7):\n",
        "    x = np.dot(A, x)\n",
        "    print(i+1, x)\n"
      ],
      "metadata": {
        "colab": {
          "base_uri": "https://localhost:8080/"
        },
        "id": "FoHi7-BSir22",
        "outputId": "3100e6b2-36fc-4c6f-8bc5-6a99eed80069"
      },
      "execution_count": 15,
      "outputs": [
        {
          "output_type": "stream",
          "name": "stdout",
          "text": [
            "1 [0.75       0.58333333 0.58333333 2.08333333]\n",
            "2 [0.8125     0.77083333 0.77083333 1.64583333]\n",
            "3 [0.796875   0.68229167 0.68229167 1.83854167]\n",
            "4 [0.80078125 0.72526042 0.72526042 1.74869792]\n",
            "5 [0.79980469 0.70410156 0.70410156 1.79199219]\n",
            "6 [0.80004883 0.71459961 0.71459961 1.77075195]\n",
            "7 [0.79998779 0.70937093 0.70937093 1.78127035]\n"
          ]
        }
      ]
    },
    {
      "cell_type": "code",
      "source": [
        "import numpy as np\n",
        "\n",
        "d = 0.85\n",
        "N = 8\n",
        "x = np.array([1.0/N] * N)\n",
        "\n",
        "A = np.array([\n",
        "    [0.0,   0.0,   1/2.0, 0.0,   0.0,   0.0,   0.0,   0.0],\n",
        "    [1/3.0, 0.0,   1/2.0, 0.0,   0.0,   0.0,   0.0,   0.0],\n",
        "    [1/3.0, 0.0,   0.0,   0.0,   0.0,   0.0,   0.0,   0.0],\n",
        "    [1/3.0, 1/2.0, 1/2.0, 0.0,   0.0,   0.0,   0.0,   0.0],\n",
        "    [0.0,   1/2.0, 0.0,   0.0,   0.0,   1/2.0, 0.0,   0.0],\n",
        "    [0.0,   0.0,   0.0,   0.0,   0.0,   0.0,   1.0,   1/2.0],\n",
        "    [0.0,   0.0,   0.0,   1/2.0, 1.0,   0.0,   0.0,   1/2.0],\n",
        "    [0.0,   0.0,   0.0,   0.0,   0.0,   1/2.0, 0.0,   0.0]\n",
        "])\n",
        "\n",
        "M = d * A + ((1 - d) / N) * np.ones([N, N])"
      ],
      "metadata": {
        "id": "ZWKFBKzPitmN"
      },
      "execution_count": 16,
      "outputs": []
    },
    {
      "cell_type": "code",
      "source": [
        "import cv2\n",
        "import numpy as np\n",
        "from PIL import Image\n",
        "\n",
        "img = Image.open(\"/mnt/data/517b5ea1-b759-4f0b-a29c-b167343b7ca8.png\").convert(\"L\")\n",
        "img_np = np.array(img)\n",
        "\n",
        "gauss_kernel = np.array([\n",
        "    [1,  4,  7,  4, 1],\n",
        "    [4, 16, 26, 16, 4],\n",
        "    [7, 26, 41, 26, 7],\n",
        "    [4, 16, 26, 16, 4],\n",
        "    [1,  4,  7,  4, 1]\n",
        "], dtype=np.float32)\n",
        "\n",
        "gauss_kernel /= np.sum(gauss_kernel)\n",
        "\n",
        "blurred = cv2.filter2D(img_np, -1, gauss_kernel)\n",
        "\n",
        "Image.fromarray(blurred).save(\"/mnt/data/output_gaussian_blur.png\")\n"
      ],
      "metadata": {
        "colab": {
          "base_uri": "https://localhost:8080/",
          "height": 332
        },
        "id": "O83egjE3i4Q1",
        "outputId": "a7bd7753-7fbc-4d4d-ee07-5ddc5917c43d"
      },
      "execution_count": 19,
      "outputs": [
        {
          "output_type": "error",
          "ename": "FileNotFoundError",
          "evalue": "[Errno 2] No such file or directory: '/mnt/data/517b5ea1-b759-4f0b-a29c-b167343b7ca8.png'",
          "traceback": [
            "\u001b[0;31m---------------------------------------------------------------------------\u001b[0m",
            "\u001b[0;31mFileNotFoundError\u001b[0m                         Traceback (most recent call last)",
            "\u001b[0;32m/tmp/ipython-input-19-4111899769.py\u001b[0m in \u001b[0;36m<cell line: 0>\u001b[0;34m()\u001b[0m\n\u001b[1;32m      3\u001b[0m \u001b[0;32mfrom\u001b[0m \u001b[0mPIL\u001b[0m \u001b[0;32mimport\u001b[0m \u001b[0mImage\u001b[0m\u001b[0;34m\u001b[0m\u001b[0;34m\u001b[0m\u001b[0m\n\u001b[1;32m      4\u001b[0m \u001b[0;34m\u001b[0m\u001b[0m\n\u001b[0;32m----> 5\u001b[0;31m \u001b[0mimg\u001b[0m \u001b[0;34m=\u001b[0m \u001b[0mImage\u001b[0m\u001b[0;34m.\u001b[0m\u001b[0mopen\u001b[0m\u001b[0;34m(\u001b[0m\u001b[0;34m\"/mnt/data/517b5ea1-b759-4f0b-a29c-b167343b7ca8.png\"\u001b[0m\u001b[0;34m)\u001b[0m\u001b[0;34m.\u001b[0m\u001b[0mconvert\u001b[0m\u001b[0;34m(\u001b[0m\u001b[0;34m\"L\"\u001b[0m\u001b[0;34m)\u001b[0m\u001b[0;34m\u001b[0m\u001b[0;34m\u001b[0m\u001b[0m\n\u001b[0m\u001b[1;32m      6\u001b[0m \u001b[0mimg_np\u001b[0m \u001b[0;34m=\u001b[0m \u001b[0mnp\u001b[0m\u001b[0;34m.\u001b[0m\u001b[0marray\u001b[0m\u001b[0;34m(\u001b[0m\u001b[0mimg\u001b[0m\u001b[0;34m)\u001b[0m\u001b[0;34m\u001b[0m\u001b[0;34m\u001b[0m\u001b[0m\n\u001b[1;32m      7\u001b[0m \u001b[0;34m\u001b[0m\u001b[0m\n",
            "\u001b[0;32m/usr/local/lib/python3.11/dist-packages/PIL/Image.py\u001b[0m in \u001b[0;36mopen\u001b[0;34m(fp, mode, formats)\u001b[0m\n\u001b[1;32m   3503\u001b[0m \u001b[0;34m\u001b[0m\u001b[0m\n\u001b[1;32m   3504\u001b[0m     \u001b[0;32mif\u001b[0m \u001b[0mfilename\u001b[0m\u001b[0;34m:\u001b[0m\u001b[0;34m\u001b[0m\u001b[0;34m\u001b[0m\u001b[0m\n\u001b[0;32m-> 3505\u001b[0;31m         \u001b[0mfp\u001b[0m \u001b[0;34m=\u001b[0m \u001b[0mbuiltins\u001b[0m\u001b[0;34m.\u001b[0m\u001b[0mopen\u001b[0m\u001b[0;34m(\u001b[0m\u001b[0mfilename\u001b[0m\u001b[0;34m,\u001b[0m \u001b[0;34m\"rb\"\u001b[0m\u001b[0;34m)\u001b[0m\u001b[0;34m\u001b[0m\u001b[0;34m\u001b[0m\u001b[0m\n\u001b[0m\u001b[1;32m   3506\u001b[0m         \u001b[0mexclusive_fp\u001b[0m \u001b[0;34m=\u001b[0m \u001b[0;32mTrue\u001b[0m\u001b[0;34m\u001b[0m\u001b[0;34m\u001b[0m\u001b[0m\n\u001b[1;32m   3507\u001b[0m     \u001b[0;32melse\u001b[0m\u001b[0;34m:\u001b[0m\u001b[0;34m\u001b[0m\u001b[0;34m\u001b[0m\u001b[0m\n",
            "\u001b[0;31mFileNotFoundError\u001b[0m: [Errno 2] No such file or directory: '/mnt/data/517b5ea1-b759-4f0b-a29c-b167343b7ca8.png'"
          ]
        }
      ]
    },
    {
      "cell_type": "code",
      "source": [
        "sharpen_kernel_a = np.array([\n",
        "    [ 0, -1,  0],\n",
        "    [-1,  5, -1],\n",
        "    [ 0, -1,  0]\n",
        "], dtype=np.float32)"
      ],
      "metadata": {
        "id": "7FHSIHXyjBTm"
      },
      "execution_count": 18,
      "outputs": []
    }
  ]
}