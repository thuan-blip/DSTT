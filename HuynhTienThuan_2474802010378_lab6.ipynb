{
  "nbformat": 4,
  "nbformat_minor": 0,
  "metadata": {
    "colab": {
      "provenance": []
    },
    "kernelspec": {
      "name": "python3",
      "display_name": "Python 3"
    },
    "language_info": {
      "name": "python"
    }
  },
  "cells": [
    {
      "cell_type": "code",
      "source": [
        "import numpy as np\n",
        "\n",
        "a = np.array([1, 2, 3])\n",
        "b = np.array([4, 5, 6])\n",
        "\n",
        "tich = np.inner(a, b)8\n",
        "print(tich)"
      ],
      "metadata": {
        "colab": {
          "base_uri": "https://localhost:8080/",
          "height": 106
        },
        "id": "KHJkO187gj-m",
        "outputId": "6b9893be-ebd9-4f30-ec55-5dd87778de22"
      },
      "execution_count": 49,
      "outputs": [
        {
          "output_type": "error",
          "ename": "SyntaxError",
          "evalue": "invalid syntax (ipython-input-49-616525636.py, line 6)",
          "traceback": [
            "\u001b[0;36m  File \u001b[0;32m\"/tmp/ipython-input-49-616525636.py\"\u001b[0;36m, line \u001b[0;32m6\u001b[0m\n\u001b[0;31m    tich = np.inner(a, b)8\u001b[0m\n\u001b[0m                         ^\u001b[0m\n\u001b[0;31mSyntaxError\u001b[0m\u001b[0;31m:\u001b[0m invalid syntax\n"
          ]
        }
      ]
    },
    {
      "cell_type": "code",
      "source": [
        "import numpy as np\n",
        "\n",
        "a = np.array([1, 2, -3])\n",
        "print(np.linalg.norm(a))"
      ],
      "metadata": {
        "id": "7eF2oxX0gwuZ"
      },
      "execution_count": null,
      "outputs": []
    },
    {
      "cell_type": "code",
      "source": [
        "a = np.array([1,2,-3])\n",
        "np.linalg.norm(a, 1)"
      ],
      "metadata": {
        "id": "JyRFO6xXg64O"
      },
      "execution_count": null,
      "outputs": []
    },
    {
      "cell_type": "code",
      "source": [
        "import numpy as np\n",
        "\n",
        "def chuan(a, p):\n",
        "    return np.sum(np.abs(a)**p)**(1/p)\n",
        "\n",
        "a = np.array([1,2,-3])\n",
        "\n",
        "print(chuan(a, 1))\n",
        "print(np.linalg.norm(a, 1))\n",
        "\n",
        "print(chuan(a, 2))\n",
        "print(np.linalg.norm(a, 2))\n",
        "\n",
        "print(chuan(a, 3))\n",
        "print(np.linalg.norm(a, 3))\n",
        "\n",
        "print(chuan(a, 1000))\n",
        "print(np.linalg.norm(a, 1000))\n",
        "from scipy import linalg\n",
        "linalg.norm(a)\n",
        "linalg.norm(a, 100)\n",
        "linalg.norm(a, 1000)"
      ],
      "metadata": {
        "id": "l-Gs3rh6g9B-"
      },
      "execution_count": null,
      "outputs": []
    },
    {
      "cell_type": "code",
      "source": [
        "import numpy as np\n",
        "\n",
        "m = 10\n",
        "v1 = np.array([5, -4, 3])\n",
        "v2 = np.array([4, 3, -2])\n",
        "v3 = np.array([-4, -3, -1])\n",
        "v4 = np.array([-9, 8, 6])\n",
        "mi = np.array([2, 5, 2, 1])\n",
        "\n",
        "M = np.array([v1, v2, v3, v4])\n",
        "MT = M.transpose()\n",
        "\n",
        "print(MT)\n",
        "\n",
        "v = (1.0 / m) * MT.dot(mi)\n",
        "print(v)\n"
      ],
      "metadata": {
        "id": "OTdekax-hTzH"
      },
      "execution_count": null,
      "outputs": []
    },
    {
      "cell_type": "code",
      "source": [
        "import numpy as np\n",
        "\n",
        "A = np.array([[0.998, 0.136],\n",
        "              [0.002, 0.864]])\n",
        "\n",
        "v0 = np.array([0.95, 0.05])\n",
        "\n",
        "A_100 = np.linalg.matrix_power(A, 100)\n",
        "\n",
        "v_100 = A_100.dot(v0)\n",
        "\n",
        "print(\"Vector trạng thái sau 100 tuần:\", v_100)\n",
        "print(\"Tỉ lệ người có việc làm:\", v_100[0])\n",
        "print(\"Tỉ lệ người thất nghiệp:\", v_100[1])\n"
      ],
      "metadata": {
        "id": "7lgVTINFhojV"
      },
      "execution_count": null,
      "outputs": []
    },
    {
      "cell_type": "code",
      "source": [
        "import sympy as sym\n",
        "\n",
        "x, y = sym.symbols('x y')\n",
        "xy = sym.Matrix([x, y])\n",
        "\n",
        "A = sym.Matrix([[1, -68],\n",
        "                [1, 1]])\n",
        "\n",
        "v = sym.Matrix([0, 1])\n",
        "\n",
        "\n",
        "nghiem = sym.solve([A*xy - v], (x, y))\n",
        "\n",
        "print(sym.pretty(nghiem))\n"
      ],
      "metadata": {
        "id": "Mk56DFoMhxs2"
      },
      "execution_count": null,
      "outputs": []
    },
    {
      "cell_type": "code",
      "source": [
        "import sympy as sym\n",
        "\n",
        "A = sym.Matrix([[1, 6],\n",
        "                [5, 2]])\n",
        "\n",
        "u = sym.Matrix([6, -5])\n",
        "\n",
        "Au = A * u\n",
        "\n",
        "minus_4_u = -4 * u\n",
        "\n",
        "print(\"Au =\")\n",
        "sym.pprint(Au)\n",
        "\n",
        "print(\"-4u =\")\n",
        "sym.pprint(minus_4_u)\n",
        "\n",
        "print(\"Kiểm tra Au == -4u:\", Au == minus_4_u)\n"
      ],
      "metadata": {
        "id": "ojPaJ-qniDOh"
      },
      "execution_count": null,
      "outputs": []
    },
    {
      "cell_type": "code",
      "source": [
        "import sympy as sym\n",
        "\n",
        "Lambda = sym.symbols('Lambda')\n",
        "I = sym.eye(2)\n",
        "\n",
        "A = sym.Matrix([[2, 3],\n",
        "                [3, -6]])\n",
        "\n",
        "char_eq = sym.Eq(sym.det(Lambda * I - A), 0)\n",
        "\n",
        "eigenvalues = sym.solve(char_eq, Lambda)\n",
        "\n",
        "print(\"Các trị riêng:\")\n",
        "print([sym.N(ev, 4) for ev in eigenvalues])\n",
        "print(sym.pretty(eigenvalues))\n"
      ],
      "metadata": {
        "id": "jVnsqt_yiNPG"
      },
      "execution_count": null,
      "outputs": []
    },
    {
      "cell_type": "code",
      "source": [
        "lambda_val = 3\n",
        "x, y = sym.symbols('x y')\n",
        "\n",
        "A = sym.Matrix([[2, 3],\n",
        "                [3, -6]])\n",
        "\n",
        "I = sym.eye(2)\n",
        "M = A - lambda_val * I\n",
        "\n",
        "v = sym.Matrix([x, y])\n",
        "eqs = M * v\n",
        "\n",
        "eq1 = sym.Eq(eqs[0], 0)\n",
        "eq2 = sym.Eq(eqs[1], 0)\n",
        "\n",
        "vec_sol = sym.solve([eq1, eq2], (x, y), dict=True)\n",
        "\n",
        "print(\"Tập vector riêng ứng với trị riêng λ=3:\")\n",
        "print(vec_sol)\n"
      ],
      "metadata": {
        "id": "W78rbcLYiQpR"
      },
      "execution_count": null,
      "outputs": []
    },
    {
      "cell_type": "code",
      "source": [
        "import numpy as np\n",
        "from numpy import linalg as LA\n",
        "\n",
        "A = np.array([[2, 3],\n",
        "              [3, -6]])\n",
        "\n",
        "D = np.array([[-7, 0],\n",
        "              [0, 3]])\n",
        "\n",
        "P = np.array([[-1.0/3, 3],\n",
        "              [1, 1]])\n",
        "P_inv = LA.inv(P)\n",
        "print(\"P^-1 =\")\n",
        "print(P_inv)\n",
        "print(\"A.dot(P) =\")\n",
        "print(A.dot(P))\n",
        "\n",
        "print(\"P.dot(D) =\")\n",
        "print(P.dot(D))\n",
        "A_1000 = P @ (D ** 1000) @ P_inv\n",
        "print(\"A^1000 =\")\n",
        "print(A_1000)\n",
        "print(\"D^2 =\")\n",
        "print(D ** 2)\n"
      ],
      "metadata": {
        "colab": {
          "base_uri": "https://localhost:8080/"
        },
        "id": "kBQlYTuxiU63",
        "outputId": "360bcd88-3a59-4067-8975-b320f5b21244"
      },
      "execution_count": 50,
      "outputs": [
        {
          "output_type": "stream",
          "name": "stdout",
          "text": [
            "P^-1 =\n",
            "[[-0.3  0.9]\n",
            " [ 0.3  0.1]]\n",
            "A.dot(P) =\n",
            "[[ 2.33333333  9.        ]\n",
            " [-7.          3.        ]]\n",
            "P.dot(D) =\n",
            "[[ 2.33333333  9.        ]\n",
            " [-7.          3.        ]]\n",
            "A^1000 =\n",
            "[[ 5.03503397e+18  3.50482117e+18]\n",
            " [ 3.50482117e+18 -4.31115581e+18]]\n",
            "D^2 =\n",
            "[[49  0]\n",
            " [ 0  9]]\n"
          ]
        }
      ]
    },
    {
      "cell_type": "code",
      "source": [
        "import numpy as np\n",
        "import math\n",
        "\n",
        "a = np.array([1, 2, 3])\n",
        "\n",
        "mag1 = np.sqrt(a.dot(a))\n",
        "print(\"Chuẩn 2 bằng dot():\", mag1)"
      ],
      "metadata": {
        "colab": {
          "base_uri": "https://localhost:8080/"
        },
        "id": "5eU0V3abidA-",
        "outputId": "ff66049e-28ef-47ee-da02-fb1d11f9f66d"
      },
      "execution_count": 51,
      "outputs": [
        {
          "output_type": "stream",
          "name": "stdout",
          "text": [
            "Chuẩn 2 bằng dot(): 3.7416573867739413\n"
          ]
        }
      ]
    },
    {
      "cell_type": "code",
      "source": [
        "import numpy as np\n",
        "\n",
        "\n",
        "def khoang_cach(a, b):\n",
        "    return np.linalg.norm(a - b)\n",
        "\n",
        "\n",
        "def tinh_goc(u, v):\n",
        "    cos_theta = np.dot(u, v) / (np.linalg.norm(u) * np.linalg.norm(v))\n",
        "\n",
        "    cos_theta = np.clip(cos_theta, -1.0, 1.0)\n",
        "    theta = np.arccos(cos_theta)\n",
        "    return theta\n",
        "\n",
        "\n",
        "def phep_chieu(u, v):\n",
        "    return (np.dot(u, v) / np.dot(v, v)) * v\n",
        "\n",
        "\n",
        "u = np.array([1, 2, 3])\n",
        "v = np.array([4, 5, 6])\n",
        "\n",
        "\n",
        "kc = khoang_cach(u, v)\n",
        "print(\"Khoảng cách giữa u và v:\", kc)\n",
        "\n",
        "\n",
        "goc = tinh_goc(u, v)\n",
        "print(\"Góc giữa u và v (radian):\", goc)\n",
        "\n",
        "\n",
        "goc_do = np.degrees(goc)\n",
        "print(\"Góc giữa u và v (độ):\", goc_do)\n",
        "\n",
        "p = phep_chieu(u, v)\n",
        "print(\"Phép chiếu trực giao của u lên v:\", p)\n"
      ],
      "metadata": {
        "colab": {
          "base_uri": "https://localhost:8080/"
        },
        "id": "w5iCOkWziu9g",
        "outputId": "13040d6a-584c-41ff-b336-edb0ed0417f9"
      },
      "execution_count": 52,
      "outputs": [
        {
          "output_type": "stream",
          "name": "stdout",
          "text": [
            "Khoảng cách giữa u và v: 5.196152422706632\n",
            "Góc giữa u và v (radian): 0.2257261285527342\n",
            "Góc giữa u và v (độ): 12.933154491899135\n",
            "Phép chiếu trực giao của u lên v: [1.66233766 2.07792208 2.49350649]\n"
          ]
        }
      ]
    }
  ]
}