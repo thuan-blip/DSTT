{
  "nbformat": 4,
  "nbformat_minor": 0,
  "metadata": {
    "colab": {
      "provenance": []
    },
    "kernelspec": {
      "name": "python3",
      "display_name": "Python 3"
    },
    "language_info": {
      "name": "python"
    }
  },
  "cells": [
    {
      "cell_type": "markdown",
      "source": [],
      "metadata": {
        "id": "6WV2Itr3T1Im"
      }
    },
    {
      "cell_type": "markdown",
      "source": [
        "bai tap tai lop\n"
      ],
      "metadata": {
        "id": "VhStzBEtT58d"
      }
    },
    {
      "cell_type": "code",
      "execution_count": 8,
      "metadata": {
        "id": "hHQ1ExahSxOQ"
      },
      "outputs": [],
      "source": [
        "def sgn_by_def(sigma):\n",
        "    count = 0\n",
        "    n = len(sigma)\n",
        "    for i in range(n):\n",
        "        for j in range(i+1, n):\n",
        "            if sigma[i] > sigma[j]:\n",
        "                count += 1\n",
        "    return (-1)**count\n"
      ]
    },
    {
      "cell_type": "code",
      "source": [
        "from itertools import permutations\n",
        "n = 3\n",
        "X = []\n",
        "for i in range(1, n+1):\n",
        "    X.append(i)\n",
        "Sn = list(permutations(X))  # tạo hoán vị của tập X\n",
        "print(Sn)\n"
      ],
      "metadata": {
        "colab": {
          "base_uri": "https://localhost:8080/"
        },
        "id": "2ewZu_HqTyQm",
        "outputId": "a120abb6-83ea-47d9-a7dc-32d41330b1f4"
      },
      "execution_count": 7,
      "outputs": [
        {
          "output_type": "stream",
          "name": "stdout",
          "text": [
            "[(1, 2, 3), (1, 3, 2), (2, 1, 3), (2, 3, 1), (3, 1, 2), (3, 2, 1)]\n"
          ]
        }
      ]
    },
    {
      "cell_type": "code",
      "source": [
        "from itertools import permutations\n",
        "import numpy as np # Import the numpy library with the alias np\n",
        "\n",
        "def sgn_by_def(sigma):\n",
        "    count = 0\n",
        "    n = len(sigma)\n",
        "    for i in range(n):\n",
        "        for j in range(i+1, n):\n",
        "            if sigma[i] > sigma[j]:\n",
        "                count += 1\n",
        "    return (-1)**count\n",
        "\n",
        "def phatsinh_dinhthuc(n):\n",
        "    X = []\n",
        "    for i in range(1, n+1):\n",
        "        X.append(i)\n",
        "    Sn = list(permutations(X))      # tạo tất cả các hoán vị của tập {1, ..., n}\n",
        "    dinhthuc = \"\"\n",
        "\n",
        "    for sn in Sn:                   # duyệt từng hoán vị\n",
        "        sigma = np.array([1])\n",
        "        sigma.resize([n])           # khởi tạo mảng sigma độ dài n\n",
        "        product = \"\"\n",
        "\n",
        "        for i in range(1, n+1):     # xây dựng chuỗi biểu thức \"aij\"\n",
        "            sigma[sn.index(i)] = i\n",
        "            product = product + \"a\" + str(i) + str(sn.index(i)+1)\n",
        "\n",
        "        dau = sgn_by_def(sigma)     # tính dấu của hoán vị\n",
        "\n",
        "        if (dau != 1):\n",
        "            product = \" - \" + product\n",
        "        else:\n",
        "            product = \" + \" + product\n",
        "\n",
        "        dinhthuc = dinhthuc + product\n",
        "\n",
        "    return dinhthuc\n",
        "print(\"Định thức cấp 2:\")\n",
        "print(phatsinh_dinhthuc(2))\n",
        "\n",
        "print(\"\\nĐịnh thức cấp 3:\")\n",
        "print(phatsinh_dinhthuc(3))"
      ],
      "metadata": {
        "colab": {
          "base_uri": "https://localhost:8080/"
        },
        "id": "jSygqXhtT9Ed",
        "outputId": "5f723834-6cf2-4348-f068-d4dcf78cb2b1"
      },
      "execution_count": 13,
      "outputs": [
        {
          "output_type": "stream",
          "name": "stdout",
          "text": [
            "Định thức cấp 2:\n",
            " + a11a22 - a12a21\n",
            "\n",
            "Định thức cấp 3:\n",
            " + a11a22a33 - a11a23a32 - a12a21a33 + a13a21a32 + a12a23a31 - a13a22a31\n"
          ]
        }
      ]
    },
    {
      "cell_type": "code",
      "source": [
        "matran = np.array([[3,5,-8],\n",
        "                   [4,12,-1],\n",
        "                   [2,5,3]])\n",
        "print(matran)\n"
      ],
      "metadata": {
        "colab": {
          "base_uri": "https://localhost:8080/"
        },
        "id": "2K7V7EWQUN-l",
        "outputId": "660d2657-451b-485e-f24d-f2f843b2af77"
      },
      "execution_count": 16,
      "outputs": [
        {
          "output_type": "stream",
          "name": "stdout",
          "text": [
            "[[ 3  5 -8]\n",
            " [ 4 12 -1]\n",
            " [ 2  5  3]]\n"
          ]
        }
      ]
    },
    {
      "cell_type": "code",
      "source": [
        "import numpy as np\n",
        "from scipy import linalg\n",
        "\n",
        "A = np.array([[4, -2], [3, -5]])\n",
        "A1 = np.array([[10, -2], [11, -5]])  # Thay cột 1 bằng vế phải\n",
        "A2 = np.array([[4, 10], [3, 11]])    # Thay cột 2 bằng vế phải\n",
        "\n",
        "detA = linalg.det(A)\n",
        "detA1 = linalg.det(A1)\n",
        "detA2 = linalg.det(A2)\n",
        "\n",
        "print(detA, detA1, detA2)\n"
      ],
      "metadata": {
        "colab": {
          "base_uri": "https://localhost:8080/"
        },
        "id": "kwyX8yC4VKFE",
        "outputId": "cf1a8a20-028c-4159-8cdb-322421e85cd8"
      },
      "execution_count": 17,
      "outputs": [
        {
          "output_type": "stream",
          "name": "stdout",
          "text": [
            "-14.0 -28.0 14.000000000000004\n"
          ]
        }
      ]
    },
    {
      "cell_type": "code",
      "source": [
        "import numpy as np\n",
        "from scipy import linalg\n",
        "from itertools import permutations\n",
        "\n",
        "# Hàm tính định thức theo định nghĩa (Laplace)\n",
        "def tinhtoan_dinhthuc(A):\n",
        "    n = len(A)\n",
        "    perm = list(permutations(range(n)))\n",
        "    det = 0\n",
        "    for sigma in perm:\n",
        "        sign = (-1) ** sum(i < j and sigma[i] > sigma[j] for i in range(n) for j in range(i+1, n))\n",
        "        prod = 1\n",
        "        for i in range(n):\n",
        "            prod *= A[i][sigma[i]]\n",
        "        det += sign * prod\n",
        "    return det\n",
        "\n",
        "# Khai báo ma trận A và các ma trận thay thế\n",
        "A = np.array([[-1, 2, -3],\n",
        "              [2, -2, 1],\n",
        "              [3, -4, 4]])\n",
        "\n",
        "A1 = np.array([[1, 2, -3],\n",
        "               [3, -2, 1],\n",
        "               [2, -4, 4]])\n",
        "\n",
        "A2 = np.array([[-1, 1, -3],\n",
        "               [2, 3, 1],\n",
        "               [3, 2, 4]])\n",
        "\n",
        "A3 = np.array([[-1, 2, 1],\n",
        "               [2, -2, 3],\n",
        "               [3, -4, 2]])\n",
        "\n",
        "print(\"🔸 Dùng scipy.linalg.det():\")\n",
        "detA = linalg.det(A)\n",
        "detA1 = linalg.det(A1)\n",
        "detA2 = linalg.det(A2)\n",
        "detA3 = linalg.det(A3)\n",
        "\n",
        "if detA != 0:\n",
        "    x = detA1 / detA\n",
        "    y = detA2 / detA\n",
        "    z = detA3 / detA\n",
        "    print(\"Nghiệm: x =\", x, \", y =\", y, \", z =\", z)\n",
        "else:\n",
        "    print(\"Hệ phương trình vô nghiệm hoặc vô định.\")\n",
        "\n",
        "print(\"\\n🔸 Dùng tinhtoan_dinhthuc():\")\n",
        "detA = tinhtoan_dinhthuc(A)\n",
        "detA1 = tinhtoan_dinhthuc(A1)\n",
        "detA2 = tinhtoan_dinhthuc(A2)\n",
        "detA3 = tinhtoan_dinhthuc(A3)\n",
        "\n",
        "if detA != 0:\n",
        "    x = detA1 / detA\n",
        "    y = detA2 / detA\n",
        "    z = detA3 / detA\n",
        "    print(\"Nghiệm: x =\", x, \", y =\", y, \", z =\", z)\n",
        "else:\n",
        "    print(\"Hệ phương trình vô nghiệm hoặc vô định.\")\n"
      ],
      "metadata": {
        "colab": {
          "base_uri": "https://localhost:8080/"
        },
        "id": "p-96bV6DXI0r",
        "outputId": "3e92f74a-fb5b-4ad2-8fbf-589cbbddaa2e"
      },
      "execution_count": 18,
      "outputs": [
        {
          "output_type": "stream",
          "name": "stdout",
          "text": [
            "🔸 Dùng scipy.linalg.det():\n",
            "Hệ phương trình vô nghiệm hoặc vô định.\n",
            "\n",
            "🔸 Dùng tinhtoan_dinhthuc():\n",
            "Hệ phương trình vô nghiệm hoặc vô định.\n"
          ]
        }
      ]
    },
    {
      "cell_type": "code",
      "source": [
        "import sympy as sp\n",
        "\n",
        "def dientich_tamgiac(A, B, C):\n",
        "    # Tạo ma trận 3x3 với cột thứ 3 toàn số 1\n",
        "    TG = sp.Matrix([\n",
        "        [A[0], A[1], 1],\n",
        "        [B[0], B[1], 1],\n",
        "        [C[0], C[1], 1]\n",
        "    ])\n",
        "\n",
        "    # Diện tích tam giác = 1/2 * |định thức|\n",
        "    S = sp.Rational(1, 2) * abs(TG.det())\n",
        "    return S\n",
        "\n",
        "# Ví dụ: A(1, 0), B(4, 3), C(2, 2)\n",
        "A\n"
      ],
      "metadata": {
        "colab": {
          "base_uri": "https://localhost:8080/"
        },
        "id": "0Cn2CuiUXZaD",
        "outputId": "275f1f5c-8426-421f-b884-06b4798efa0b"
      },
      "execution_count": 19,
      "outputs": [
        {
          "output_type": "execute_result",
          "data": {
            "text/plain": [
              "array([[-1,  2, -3],\n",
              "       [ 2, -2,  1],\n",
              "       [ 3, -4,  4]])"
            ]
          },
          "metadata": {},
          "execution_count": 19
        }
      ]
    },
    {
      "cell_type": "code",
      "source": [
        "from sympy import Matrix, Rational\n",
        "\n",
        "def thetich_tu_dien(A, B, C, D):\n",
        "    # Tạo ma trận 4x4 từ 4 điểm A, B, C, D\n",
        "    M = Matrix([\n",
        "        [A[0], A[1], A[2], 1],\n",
        "        [B[0], B[1], B[2], 1],\n",
        "        [C[0], C[1], C[2], 1],\n",
        "        [D[0], D[1], D[2], 1]\n",
        "    ])\n",
        "    # Thể tích = 1/6 * |định thức|\n",
        "    V = Rational(1, 6) * abs(M.det())\n",
        "    return V\n",
        "\n",
        "# Ví dụ: 4 điểm trong không gian\n",
        "A = (0, 4, 1)\n",
        "B = (4, 0, 0)\n",
        "C = (3, 5, 2)\n",
        "D = (2, 2, 5)\n",
        "\n",
        "# Tính thể tích\n",
        "V = thetich_tu_dien(A, B, C, D)\n",
        "print(\"Thể tích của tứ diện là:\", V)\n"
      ],
      "metadata": {
        "colab": {
          "base_uri": "https://localhost:8080/"
        },
        "id": "lzNxH2RpYAk7",
        "outputId": "4834c045-3e65-4247-c76d-cc3c6633fd3e"
      },
      "execution_count": 20,
      "outputs": [
        {
          "output_type": "stream",
          "name": "stdout",
          "text": [
            "Thể tích của tứ diện là: 12\n"
          ]
        }
      ]
    },
    {
      "cell_type": "code",
      "source": [
        "from sympy import *\n",
        "\n",
        "# Khai báo biến\n",
        "x, y, z = symbols('x y z')\n",
        "\n",
        "# Các điểm\n",
        "A = Matrix([-1, 3, 2])\n",
        "B = Matrix([0, 1, 0])\n",
        "C = Matrix([-2, 0, 1])\n",
        "\n",
        "# Vector AB và AC\n",
        "AB = B - A\n",
        "AC = C - A\n",
        "\n",
        "# Tích có hướng AB x AC\n",
        "n = AB.cross(AC)  # vector pháp tuyến\n",
        "\n",
        "# Phương trình mặt phẳng: n . (X - A) = 0\n",
        "X = Matrix([x, y, z])\n",
        "eq = Eq(n.dot(X - A), 0)\n",
        "print(\"Phương trình mặt phẳng là:\")\n",
        "print(eq)\n"
      ],
      "metadata": {
        "colab": {
          "base_uri": "https://localhost:8080/"
        },
        "id": "ieAfV31nYPTD",
        "outputId": "72c5d8f8-06c5-4ea4-ee7d-6bb2071e0622"
      },
      "execution_count": 21,
      "outputs": [
        {
          "output_type": "stream",
          "name": "stdout",
          "text": [
            "Phương trình mặt phẳng là:\n",
            "Eq(-4*x + 3*y - 5*z - 3, 0)\n"
          ]
        }
      ]
    },
    {
      "cell_type": "code",
      "source": [
        "from sympy import Matrix, symbols, init_printing\n",
        "\n",
        "init_printing()\n",
        "\n",
        "A = Matrix([\n",
        "    [2, 3, 1],\n",
        "    [4, 1, -3],\n",
        "    [1, 2, 0]\n",
        "])\n",
        "cofactor_matrix = A.cofactor_matrix()\n",
        "adjoint_matrix = cofactor_matrix.transpose()\n",
        "print(\"Ma trận A:\")\n",
        "print(A)\n",
        "\n",
        "print(\"\\nMa trận hệ số kép (Cofactor matrix):\")\n",
        "print(cofactor_matrix)\n",
        "\n",
        "print(\"\\nMa trận liên hợp (Adjoint matrix):\")\n",
        "print(adjoint_matrix)"
      ],
      "metadata": {
        "colab": {
          "base_uri": "https://localhost:8080/"
        },
        "id": "pKZZL9xQYSQa",
        "outputId": "03df5f1a-a19b-4dde-c170-57632238acb2"
      },
      "execution_count": 22,
      "outputs": [
        {
          "output_type": "stream",
          "name": "stdout",
          "text": [
            "Ma trận A:\n",
            "Matrix([[2, 3, 1], [4, 1, -3], [1, 2, 0]])\n",
            "\n",
            "Ma trận hệ số kép (Cofactor matrix):\n",
            "Matrix([[6, -3, 7], [2, -1, -1], [-10, 10, -10]])\n",
            "\n",
            "Ma trận liên hợp (Adjoint matrix):\n",
            "Matrix([[6, 2, -10], [-3, -1, 10], [7, -1, -10]])\n"
          ]
        }
      ]
    },
    {
      "cell_type": "code",
      "source": [
        "from sympy import symbols, Matrix, Eq, simplify, solve, pprint\n",
        "\n",
        "# Bước 1: Khai báo biến x, y\n",
        "x, y = symbols('x y')\n",
        "\n",
        "# Bước 2: Nhập 3 điểm (A, B, C) thuộc đường tròn\n",
        "# Ví dụ: A = (1, 1), B = (2, 4), C = (5, 3)\n",
        "A = (1, 1)\n",
        "B = (2, 4)\n",
        "C = (5, 3)\n",
        "\n",
        "# Bước 3: Lập ma trận định thức bậc 5 theo phương trình tổng quát đường tròn\n",
        "# Mỗi hàng tương ứng (x^2 + y^2, x, y, 1)\n",
        "def circle_matrix(p):\n",
        "    xi, yi = p\n",
        "    return [xi**2 + yi**2, xi, yi, 1]\n",
        "\n",
        "# Tạo ma trận 4x4 (gồm biến (x, y) và 3 điểm A, B, C)\n",
        "M = Matrix([\n",
        "    [x**2 + y**2, x, y, 1],\n",
        "    circle_matrix(A),\n",
        "    circle_matrix(B),\n",
        "    circle_matrix(C)\n",
        "])\n",
        "\n",
        "# Bước 4: Lập phương trình = định thức = 0\n",
        "circle_eq = Eq(M.det(), 0)\n",
        "\n",
        "# Bước 5: Hiển thị kết quả\n",
        "print(\"Phương trình đường tròn đi qua 3 điểm:\")\n",
        "pprint(simplify(circle_eq))\n"
      ],
      "metadata": {
        "colab": {
          "base_uri": "https://localhost:8080/"
        },
        "id": "8tHThdDHYpyq",
        "outputId": "c3299bda-bb07-4a44-b0ea-720638d4223b"
      },
      "execution_count": 23,
      "outputs": [
        {
          "output_type": "stream",
          "name": "stdout",
          "text": [
            "Phương trình đường tròn đi qua 3 điểm:\n",
            "    2              2                \n",
            "10⋅x  - 60⋅x + 10⋅y  - 40⋅y + 80 = 0\n"
          ]
        }
      ]
    }
  ]
}