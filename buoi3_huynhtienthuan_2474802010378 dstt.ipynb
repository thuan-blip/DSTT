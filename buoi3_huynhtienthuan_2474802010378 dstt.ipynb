{
  "nbformat": 4,
  "nbformat_minor": 0,
  "metadata": {
    "colab": {
      "provenance": []
    },
    "kernelspec": {
      "name": "python3",
      "display_name": "Python 3"
    },
    "language_info": {
      "name": "python"
    }
  },
  "cells": [
    {
      "cell_type": "markdown",
      "source": [],
      "metadata": {
        "id": "630XTuyeSV1x"
      }
    },
    {
      "cell_type": "markdown",
      "source": [
        "bài tập trên lớp\n"
      ],
      "metadata": {
        "id": "syqRBY62SX14"
      }
    },
    {
      "cell_type": "code",
      "source": [
        "import numpy as np\n",
        "\n",
        "# Use np.array instead of just array\n",
        "np.array([1, 2, 3])\n",
        "\n"
      ],
      "metadata": {
        "colab": {
          "base_uri": "https://localhost:8080/"
        },
        "id": "NzaANzb_SWvz",
        "outputId": "962fe6f1-8411-4516-a6e0-0fb18841890c"
      },
      "execution_count": null,
      "outputs": [
        {
          "output_type": "execute_result",
          "data": {
            "text/plain": [
              "array([1, 2, 3])"
            ]
          },
          "metadata": {},
          "execution_count": 3
        }
      ]
    },
    {
      "cell_type": "code",
      "execution_count": null,
      "metadata": {
        "colab": {
          "base_uri": "https://localhost:8080/"
        },
        "id": "72UH0KpiPfJI",
        "outputId": "aae7a9f7-35a7-4ef9-d5b2-86cb09a1e9d2"
      },
      "outputs": [
        {
          "output_type": "execute_result",
          "data": {
            "text/plain": [
              "array([[1.+9.j, 0.+2.j, 0.+3.j],\n",
              "       [0.+4.j, 0.+5.j, 0.+6.j]])"
            ]
          },
          "metadata": {},
          "execution_count": 4
        }
      ],
      "source": [
        "# Use np.array instead of just array\n",
        "import numpy as np\n",
        "\n",
        "np.array([1, 2, 3])\n",
        "\n",
        "np.array([[(1+9j), 0.+2.j, 0.+3.j],\n",
        "       [0.+4.j, 0.+5.j, 0.+6.j]])\n"
      ]
    },
    {
      "cell_type": "code",
      "source": [
        "# Use np.array instead of just array\n",
        "# The array function is part of the numpy library and needs to be called using np.\n",
        "np.array([[[0.5, 1.5, 10. ],\n",
        "        [3. , 2. , 1. ]],\n",
        "\n",
        "       [[6. , 5. , 4. ],\n",
        "        [7. , 8. , 9. ]]])"
      ],
      "metadata": {
        "colab": {
          "base_uri": "https://localhost:8080/"
        },
        "id": "uycAKm8HSvuQ",
        "outputId": "f3b18ef7-436e-46af-8e9b-b2c577334969"
      },
      "execution_count": null,
      "outputs": [
        {
          "output_type": "execute_result",
          "data": {
            "text/plain": [
              "array([[[ 0.5,  1.5, 10. ],\n",
              "        [ 3. ,  2. ,  1. ]],\n",
              "\n",
              "       [[ 6. ,  5. ,  4. ],\n",
              "        [ 7. ,  8. ,  9. ]]])"
            ]
          },
          "metadata": {},
          "execution_count": 6
        }
      ]
    },
    {
      "cell_type": "code",
      "source": [
        "# Use np.array instead of just array\n",
        "# The array function is part of the numpy library and needs to be called using np.\n",
        "import numpy as np # Ensure numpy is imported\n",
        "\n",
        "np.array([[[0.5, 1.5, 10. ],\n",
        "        [3. , 2. , 1. ]],\n",
        "\n",
        "       [[6. , 5. , 4. ],\n",
        "        [7. , 8. , 9. ]]])\n",
        "\n",
        "# Call the matrix function using the np. prefix\n",
        "np.matrix([[0.743, 0.181],\n",
        "        [0.234, 0.997]])  # ví dụ, giá trị thực tế sẽ khác mỗi lần chạy"
      ],
      "metadata": {
        "colab": {
          "base_uri": "https://localhost:8080/"
        },
        "id": "QHarWg8nTEkw",
        "outputId": "78f1e9c1-f707-49c8-fa1d-15273c42ef1a"
      },
      "execution_count": null,
      "outputs": [
        {
          "output_type": "execute_result",
          "data": {
            "text/plain": [
              "matrix([[0.743, 0.181],\n",
              "        [0.234, 0.997]])"
            ]
          },
          "metadata": {},
          "execution_count": 8
        }
      ]
    },
    {
      "cell_type": "code",
      "source": [
        "# Use the np. prefix to call the matrix function from numpy\n",
        "np.matrix([[(1+9j), 0.+2.j, 0.+3.j],\n",
        "        [0.+4.j, 0.+5.j, 0.+6.j]])"
      ],
      "metadata": {
        "colab": {
          "base_uri": "https://localhost:8080/"
        },
        "id": "12VjexdGTN8f",
        "outputId": "c98d09e7-a979-4afd-98db-af9a6e1a2cfc"
      },
      "execution_count": null,
      "outputs": [
        {
          "output_type": "execute_result",
          "data": {
            "text/plain": [
              "matrix([[1.+9.j, 0.+2.j, 0.+3.j],\n",
              "        [0.+4.j, 0.+5.j, 0.+6.j]])"
            ]
          },
          "metadata": {},
          "execution_count": 10
        }
      ]
    },
    {
      "cell_type": "code",
      "source": [
        "# Use the np. prefix to call the matrix function from numpy\n",
        "np.matrix([[0.154, 0.945, 0.132], # Note: '...' is not valid Python syntax within a list\n",
        "        [0.331, 0.785, 0.902]]) # Replace '...' with actual values or generate them"
      ],
      "metadata": {
        "colab": {
          "base_uri": "https://localhost:8080/"
        },
        "id": "cS_w3QpvTcAn",
        "outputId": "de4360bc-1754-452e-8e30-e83d99e88ab4"
      },
      "execution_count": null,
      "outputs": [
        {
          "output_type": "execute_result",
          "data": {
            "text/plain": [
              "matrix([[0.154, 0.945, 0.132],\n",
              "        [0.331, 0.785, 0.902]])"
            ]
          },
          "metadata": {},
          "execution_count": 12
        }
      ]
    },
    {
      "cell_type": "code",
      "source": [
        "# Use the np. prefix to call the matrix function from numpy\n",
        "# The matrix function is part of the numpy library and needs to be called using np.\n",
        "np.matrix([[4, 3],\n",
        "        [2, 6]])"
      ],
      "metadata": {
        "colab": {
          "base_uri": "https://localhost:8080/"
        },
        "id": "swuGSvk9ToR3",
        "outputId": "8a6bb384-7147-4342-f831-1995e8f4e821"
      },
      "execution_count": null,
      "outputs": [
        {
          "output_type": "execute_result",
          "data": {
            "text/plain": [
              "matrix([[4, 3],\n",
              "        [2, 6]])"
            ]
          },
          "metadata": {},
          "execution_count": 14
        }
      ]
    },
    {
      "cell_type": "code",
      "source": [
        "import numpy as np # Import the numpy library\n",
        "\n",
        "# Use np.array instead of just array\n",
        "np.array([[0., 1., 0.],\n",
        "       [0., 0., 1.],\n",
        "       [0., 0., 0.]])"
      ],
      "metadata": {
        "colab": {
          "base_uri": "https://localhost:8080/"
        },
        "id": "fv8Vh10FT2B3",
        "outputId": "365d1397-1dca-494c-9e67-3b9e1b2de12a"
      },
      "execution_count": null,
      "outputs": [
        {
          "output_type": "execute_result",
          "data": {
            "text/plain": [
              "array([[0., 1., 0.],\n",
              "       [0., 0., 1.],\n",
              "       [0., 0., 0.]])"
            ]
          },
          "metadata": {},
          "execution_count": 16
        }
      ]
    },
    {
      "cell_type": "code",
      "source": [
        "import numpy as np\n",
        "from scipy import linalg\n",
        "\n",
        "# Tạo ma trận ví dụ\n",
        "A = np.matrix([[4, 3], [2, 6]])\n",
        "# Use np.asmatrix instead of np.mat as recommended in the error message\n",
        "C = np.asmatrix(np.random.random((10,5)))\n",
        "\n",
        "# Ma trận đơn vị k=0\n",
        "F0 = np.eye(3, k=0)\n",
        "print(\"F = np.eye(3, k=0):\\n\", F0)\n",
        "\n",
        "# Ma trận đơn vị k=-1\n",
        "F1 = np.eye(3, k=-1)\n",
        "print(\"\\nF = np.eye(3, k=-1):\\n\", F1)\n",
        "\n",
        "# Hạng của ma trận\n",
        "print(\"\\nRank of C:\", np.linalg.matrix_rank(C))\n",
        "\n",
        "# Ma trận nghịch đảo\n",
        "print(\"\\nA.I:\\n\", A.I)\n",
        "print(\"\\nscipy.linalg.inv(A):\\n\", linalg.inv(A))\n",
        "\n",
        "# Định thức\n",
        "print(\"\\ndet(A):\", linalg.det(A))\n",
        "\n",
        "# Chuyển vị\n",
        "print(\"\\nA.T:\\n\", A.T)\n",
        "\n",
        "# Chuyển vị liên hợp\n",
        "print(\"\\nA.H:\\n\", A.H)"
      ],
      "metadata": {
        "colab": {
          "base_uri": "https://localhost:8080/"
        },
        "id": "rIVwRUVqT-cP",
        "outputId": "ac98884b-7612-4cae-feb0-f1ab45848691"
      },
      "execution_count": null,
      "outputs": [
        {
          "output_type": "stream",
          "name": "stdout",
          "text": [
            "F = np.eye(3, k=0):\n",
            " [[1. 0. 0.]\n",
            " [0. 1. 0.]\n",
            " [0. 0. 1.]]\n",
            "\n",
            "F = np.eye(3, k=-1):\n",
            " [[0. 0. 0.]\n",
            " [1. 0. 0.]\n",
            " [0. 1. 0.]]\n",
            "\n",
            "Rank of C: 5\n",
            "\n",
            "A.I:\n",
            " [[ 0.33333333 -0.16666667]\n",
            " [-0.11111111  0.22222222]]\n",
            "\n",
            "scipy.linalg.inv(A):\n",
            " [[ 0.33333333 -0.16666667]\n",
            " [-0.11111111  0.22222222]]\n",
            "\n",
            "det(A): 18.0\n",
            "\n",
            "A.T:\n",
            " [[4 2]\n",
            " [3 6]]\n",
            "\n",
            "A.H:\n",
            " [[4 2]\n",
            " [3 6]]\n"
          ]
        }
      ]
    },
    {
      "cell_type": "code",
      "source": [
        "import numpy as np\n",
        "from scipy import linalg\n",
        "\n",
        "# Khởi tạo dữ liệu\n",
        "a = np.array([1, 2, 3])\n",
        "b = np.array([(1+9j, 2j, 3j), (4j, 5j, 6j)])\n",
        "A = np.array([[4, 3], [2, 6]])\n",
        "D = np.array([[4, 3], [2, 6]])\n",
        "F = np.eye(3, k=0)  # ma trận đơn vị 3x3\n",
        "# E = np.mat(a).T     # chuyển vector a thành ma trận cột - Chức năng này đã bị xóa trong numpy 2.0\n",
        "E = np.asmatrix(a).T # Use np.asmatrix instead of np.mat\n",
        "\n",
        "# Giải hệ phương trình A·x = b[:, 0:2]\n",
        "print(\"linalg.solve(A, b[:, 0:2]):\")\n",
        "print(linalg.solve(A, b[:, 0:2]))\n",
        "print()\n",
        "\n",
        "# Ma trận E\n",
        "print(\"E = np.asmatrix(a).T:\") # Update print statement to reflect the change\n",
        "print(E)\n",
        "print()\n",
        "\n",
        "# Least squares\n",
        "print(\"linalg.lstsq(F, E):\")\n",
        "x, residuals, rank, s = linalg.lstsq(F, E)\n",
        "print(\"Nghiệm x:\\n\", x)\n",
        "print(\"Residuals:\", residuals)\n",
        "print(\"Rank:\", rank)\n",
        "print(\"Singular values:\", s)\n",
        "print()\n",
        "\n",
        "# Các phép toán ma trận\n",
        "print(\"np.add(A, D):\")\n",
        "print(np.add(A, D))\n",
        "print()\n",
        "\n",
        "print(\"np.subtract(A, D):\")\n",
        "print(np.subtract(A, D))\n",
        "print()\n",
        "\n",
        "print(\"np.divide(A, D):\")\n",
        "print(np.divide(A, D))\n",
        "print()\n",
        "\n",
        "print(\"A @ D:\")\n",
        "print(A @ D)\n",
        "print()\n",
        "\n",
        "print(\"np.multiply(D, A):\")\n",
        "print(np.multiply(D, A))\n",
        "print()\n",
        "\n",
        "print(\"np.dot(A, D):\")\n",
        "print(np.dot(A, D))\n",
        "print()\n",
        "\n",
        "print(\"np.vdot(A, D):\")\n",
        "print(np.vdot(A, D))\n",
        "print()\n",
        "\n",
        "# expm và logm\n",
        "print(\"linalg.expm(A):\")\n",
        "print(linalg.expm(A))\n",
        "print()\n",
        "\n",
        "print(\"linalg.logm(A):\")\n",
        "print(linalg.logm(A))\n",
        "print()"
      ],
      "metadata": {
        "colab": {
          "base_uri": "https://localhost:8080/"
        },
        "id": "IuW4s85qUoAW",
        "outputId": "15cc43a1-15b8-4ef0-e8f3-27a05f80ede1"
      },
      "execution_count": null,
      "outputs": [
        {
          "output_type": "stream",
          "name": "stdout",
          "text": [
            "linalg.solve(A, b[:, 0:2]):\n",
            "[[ 0.33333333+2.33333333j  0.        -0.16666667j]\n",
            " [-0.11111111-0.11111111j  0.        +0.88888889j]]\n",
            "\n",
            "E = np.asmatrix(a).T:\n",
            "[[1]\n",
            " [2]\n",
            " [3]]\n",
            "\n",
            "linalg.lstsq(F, E):\n",
            "Nghiệm x:\n",
            " [[1.]\n",
            " [2.]\n",
            " [3.]]\n",
            "Residuals: []\n",
            "Rank: 3\n",
            "Singular values: [1. 1. 1.]\n",
            "\n",
            "np.add(A, D):\n",
            "[[ 8  6]\n",
            " [ 4 12]]\n",
            "\n",
            "np.subtract(A, D):\n",
            "[[0 0]\n",
            " [0 0]]\n",
            "\n",
            "np.divide(A, D):\n",
            "[[1. 1.]\n",
            " [1. 1.]]\n",
            "\n",
            "A @ D:\n",
            "[[22 30]\n",
            " [20 42]]\n",
            "\n",
            "np.multiply(D, A):\n",
            "[[16  9]\n",
            " [ 4 36]]\n",
            "\n",
            "np.dot(A, D):\n",
            "[[22 30]\n",
            " [20 42]]\n",
            "\n",
            "np.vdot(A, D):\n",
            "65\n",
            "\n",
            "linalg.expm(A):\n",
            "[[ 657.82328195 1179.93477479]\n",
            " [ 786.6231832  1444.44646515]]\n",
            "\n",
            "linalg.logm(A):\n",
            "[[1.22257832 0.66782266]\n",
            " [0.44521511 1.66779343]]\n",
            "\n"
          ]
        }
      ]
    },
    {
      "cell_type": "code",
      "source": [
        "import numpy as np\n",
        "\n",
        "# Khởi tạo ma trận A\n",
        "A = np.array([[0, 1], [1, 0]])\n",
        "print(\"A =\")\n",
        "print(A)\n",
        "\n",
        "# Lũy thừa lần đầu tiên\n",
        "temp = A.dot(A)\n",
        "print(\"\\nA^2 =\")\n",
        "print(temp)\n",
        "\n",
        "# Tính các lũy thừa tiếp theo đến bậc k\n",
        "k = 6\n",
        "for i in range(k - 2):\n",
        "    temp = temp.dot(A)\n",
        "    print(f\"\\nA^{i+3} =\")\n",
        "    print(temp)\n",
        "\n"
      ],
      "metadata": {
        "colab": {
          "base_uri": "https://localhost:8080/"
        },
        "id": "GVXjyGWGVCD-",
        "outputId": "bb4d3d66-8dd2-49e2-b715-f200ee3991e4"
      },
      "execution_count": null,
      "outputs": [
        {
          "output_type": "stream",
          "name": "stdout",
          "text": [
            "A =\n",
            "[[0 1]\n",
            " [1 0]]\n",
            "\n",
            "A^2 =\n",
            "[[1 0]\n",
            " [0 1]]\n",
            "\n",
            "A^3 =\n",
            "[[0 1]\n",
            " [1 0]]\n",
            "\n",
            "A^4 =\n",
            "[[1 0]\n",
            " [0 1]]\n",
            "\n",
            "A^5 =\n",
            "[[0 1]\n",
            " [1 0]]\n",
            "\n",
            "A^6 =\n",
            "[[1 0]\n",
            " [0 1]]\n"
          ]
        }
      ]
    },
    {
      "cell_type": "code",
      "source": [
        "import numpy as np\n",
        "\n",
        "# Khởi tạo ma trận B\n",
        "B = np.array([[0, -1], [-1, 0]])\n",
        "print(\"B =\")\n",
        "print(B)\n",
        "\n",
        "# Lũy thừa lần đầu\n",
        "temp = B.dot(B)\n",
        "print(\"\\nB^2 =\")\n",
        "print(temp)\n",
        "\n",
        "# Tính các lũy thừa tiếp theo đến bậc k\n",
        "k = 5\n",
        "for i in range(k - 2):\n",
        "    temp = temp.dot(B)\n",
        "    print(f\"\\nB^{i+3} =\")\n",
        "    print(temp)\n",
        "    print('---')\n",
        "\n"
      ],
      "metadata": {
        "colab": {
          "base_uri": "https://localhost:8080/"
        },
        "id": "u6MuvdxIVW8e",
        "outputId": "fbe50c16-e52e-4450-c4c2-b36a47b29f2f"
      },
      "execution_count": null,
      "outputs": [
        {
          "output_type": "stream",
          "name": "stdout",
          "text": [
            "B =\n",
            "[[ 0 -1]\n",
            " [-1  0]]\n",
            "\n",
            "B^2 =\n",
            "[[1 0]\n",
            " [0 1]]\n",
            "\n",
            "B^3 =\n",
            "[[ 0 -1]\n",
            " [-1  0]]\n",
            "---\n",
            "\n",
            "B^4 =\n",
            "[[1 0]\n",
            " [0 1]]\n",
            "---\n",
            "\n",
            "B^5 =\n",
            "[[ 0 -1]\n",
            " [-1  0]]\n",
            "---\n"
          ]
        }
      ]
    },
    {
      "cell_type": "code",
      "source": [
        "import numpy as np\n",
        "\n",
        "# Khởi tạo ma trận hội tụ C\n",
        "C = np.array([\n",
        "    [1,   0,   0],\n",
        "    [0, 0.5,   1],\n",
        "    [0,   0, 0.5]\n",
        "])\n",
        "print(\"Ma trận C:\")\n",
        "print(C)\n",
        "\n",
        "# Tính C^2\n",
        "temp = C.dot(C)\n",
        "print(\"\\nC^2 =\")\n",
        "print(temp)\n",
        "\n",
        "# Tính C^T với T lớn\n",
        "k = 1000\n",
        "for i in range(k - 2):  # đã tính C^2 nên chỉ lặp k-2 lần nữa\n",
        "    temp = temp.dot(C)\n",
        "\n",
        "print(\"\\nC^1000 ≈\")\n",
        "print(temp)\n",
        "\n",
        "# Tính thêm 1000 lần nữa\n",
        "for i in range(k - 1):\n",
        "    temp = temp.dot(C)\n",
        "\n",
        "print(\"\\nC^2000 ≈\")\n",
        "print(temp)\n"
      ],
      "metadata": {
        "colab": {
          "base_uri": "https://localhost:8080/"
        },
        "id": "FY1d7IVBVfeO",
        "outputId": "44854721-7930-45fc-d14d-9731eaaa5f48"
      },
      "execution_count": null,
      "outputs": [
        {
          "output_type": "stream",
          "name": "stdout",
          "text": [
            "Ma trận C:\n",
            "[[1.  0.  0. ]\n",
            " [0.  0.5 1. ]\n",
            " [0.  0.  0.5]]\n",
            "\n",
            "C^2 =\n",
            "[[1.   0.   0.  ]\n",
            " [0.   0.25 1.  ]\n",
            " [0.   0.   0.25]]\n",
            "\n",
            "C^1000 ≈\n",
            "[[1.00000000e+000 0.00000000e+000 0.00000000e+000]\n",
            " [0.00000000e+000 9.33263619e-302 1.86652724e-298]\n",
            " [0.00000000e+000 0.00000000e+000 9.33263619e-302]]\n",
            "\n",
            "C^2000 ≈\n",
            "[[1. 0. 0.]\n",
            " [0. 0. 0.]\n",
            " [0. 0. 0.]]\n"
          ]
        }
      ]
    },
    {
      "cell_type": "code",
      "source": [
        "import numpy as np\n",
        "\n",
        "# Ma trận M đầu tiên\n",
        "M = np.array([[0.8, 0.3], [0.2, 0.7]])\n",
        "\n",
        "# M^2\n",
        "MM = M.dot(M)\n",
        "print(\"M^2 =\")\n",
        "print(MM)\n",
        "\n",
        "# M^3\n",
        "MM = MM.dot(M)\n",
        "print(\"\\nM^3 =\")\n",
        "print(MM)\n",
        "\n",
        "# M^100\n",
        "for i in range(100):\n",
        "    MM = MM.dot(M)\n",
        "print(\"\\nM^103 ≈\")\n",
        "print(MM)\n"
      ],
      "metadata": {
        "colab": {
          "base_uri": "https://localhost:8080/"
        },
        "id": "GfnSEwqNVpJe",
        "outputId": "45e9e36e-d703-4275-c018-1273b27ae173"
      },
      "execution_count": null,
      "outputs": [
        {
          "output_type": "stream",
          "name": "stdout",
          "text": [
            "M^2 =\n",
            "[[0.7  0.45]\n",
            " [0.3  0.55]]\n",
            "\n",
            "M^3 =\n",
            "[[0.65  0.525]\n",
            " [0.35  0.475]]\n",
            "\n",
            "M^103 ≈\n",
            "[[0.6 0.6]\n",
            " [0.4 0.4]]\n"
          ]
        }
      ]
    },
    {
      "cell_type": "code",
      "source": [
        "import numpy as np\n",
        "from scipy import linalg\n",
        "\n",
        "# Khởi tạo ma trận M\n",
        "M = np.array([[0.8, 0.3], [0.2, 0.7]])\n",
        "\n",
        "# Phân tích LU\n",
        "P, L, U = linalg.lu(M)\n",
        "\n",
        "# In các ma trận P, L, U\n",
        "print(\"Ma trận P:\")\n",
        "print(P)\n",
        "print(\"\\nMa trận L:\")\n",
        "print(L)\n",
        "print(\"\\nMa trận U:\")\n",
        "print(U)\n",
        "\n",
        "# Kiểm tra tích L*U có bằng M (hay P.T @ M) không\n",
        "print(\"\\nTích L.dot(U):\")\n",
        "print(L.dot(U))\n",
        "\n",
        "print(\"\\nSo sánh P.dot(L.dot(U)) với M:\")\n",
        "print(np.allclose(P.dot(L.dot(U)), M))  # True nếu gần bằng\n",
        "\n"
      ],
      "metadata": {
        "colab": {
          "base_uri": "https://localhost:8080/"
        },
        "id": "O8OItDnRV0uG",
        "outputId": "3c678dcc-49c8-4182-b0d2-767ded181ae6"
      },
      "execution_count": null,
      "outputs": [
        {
          "output_type": "stream",
          "name": "stdout",
          "text": [
            "Ma trận P:\n",
            "[[1. 0.]\n",
            " [0. 1.]]\n",
            "\n",
            "Ma trận L:\n",
            "[[1.   0.  ]\n",
            " [0.25 1.  ]]\n",
            "\n",
            "Ma trận U:\n",
            "[[0.8   0.3  ]\n",
            " [0.    0.625]]\n",
            "\n",
            "Tích L.dot(U):\n",
            "[[0.8 0.3]\n",
            " [0.2 0.7]]\n",
            "\n",
            "So sánh P.dot(L.dot(U)) với M:\n",
            "True\n"
          ]
        }
      ]
    },
    {
      "cell_type": "code",
      "source": [
        "import numpy as np\n",
        "\n",
        "# Khởi tạo ma trận A\n",
        "A = np.array([\n",
        "    [0, 1, 0, 1],\n",
        "    [0, 0, 1, 0],\n",
        "    [1, 0, 0, 1],\n",
        "    [1, 1, 0, 0]\n",
        "])\n",
        "\n",
        "# Tính A^2\n",
        "temp = A.dot(A)\n",
        "print(\"A^2 =\")\n",
        "print(temp)\n",
        "\n",
        "# Tính A^3\n",
        "temp = temp.dot(A)\n",
        "print(\"\\nA^3 =\")\n",
        "print(temp)\n",
        "\n"
      ],
      "metadata": {
        "colab": {
          "base_uri": "https://localhost:8080/"
        },
        "id": "cmhQp5ZAV_0l",
        "outputId": "36dbe459-7d79-4f94-9206-7648c9496c8f"
      },
      "execution_count": null,
      "outputs": [
        {
          "output_type": "stream",
          "name": "stdout",
          "text": [
            "A^2 =\n",
            "[[1 1 1 0]\n",
            " [1 0 0 1]\n",
            " [1 2 0 1]\n",
            " [0 1 1 1]]\n",
            "\n",
            "A^3 =\n",
            "[[1 1 1 2]\n",
            " [1 2 0 1]\n",
            " [1 2 2 1]\n",
            " [2 1 1 1]]\n"
          ]
        }
      ]
    },
    {
      "cell_type": "code",
      "source": [
        "import numpy as np\n",
        "\n",
        "# Khởi tạo ma trận A\n",
        "A = np.array([\n",
        "    [0, 1, 0, 1],\n",
        "    [0, 0, 1, 0],\n",
        "    [1, 0, 0, 1],\n",
        "    [1, 1, 0, 0]\n",
        "])\n",
        "\n",
        "sumA = A.copy()  # Khởi tạo tổng bằng A\n",
        "temp = A.dot(A)  # Tính A^2\n",
        "k = 3\n",
        "sumA = sumA + temp  # Cộng A + A^2\n",
        "\n",
        "for i in range(1, k - 1):\n",
        "    temp = temp.dot(A)  # Tính tiếp các lũy thừa A^3, A^4,...\n",
        "    sumA = sumA + temp  # Cộng vào tổng\n",
        "\n",
        "print(\"Lũy thừa cao nhất (A^3):\")\n",
        "print(temp)\n",
        "\n",
        "print(\"\\nTổng A + A^2 + A^3:\")\n",
        "print(sumA)\n",
        "\n"
      ],
      "metadata": {
        "colab": {
          "base_uri": "https://localhost:8080/"
        },
        "id": "mtAuqpP6WIrF",
        "outputId": "3ecfb454-e60c-4bbe-ff99-b3405957843a"
      },
      "execution_count": null,
      "outputs": [
        {
          "output_type": "stream",
          "name": "stdout",
          "text": [
            "Lũy thừa cao nhất (A^3):\n",
            "[[1 1 1 2]\n",
            " [1 2 0 1]\n",
            " [1 2 2 1]\n",
            " [2 1 1 1]]\n",
            "\n",
            "Tổng A + A^2 + A^3:\n",
            "[[2 3 2 3]\n",
            " [2 2 1 2]\n",
            " [3 4 2 3]\n",
            " [3 3 2 2]]\n"
          ]
        }
      ]
    },
    {
      "cell_type": "markdown",
      "source": [
        "# **bài tập về nhà:**"
      ],
      "metadata": {
        "id": "1vsyQtCeWPo1"
      }
    },
    {
      "cell_type": "markdown",
      "source": [
        "câu 1:"
      ],
      "metadata": {
        "id": "cVpYPV8TWUkU"
      }
    },
    {
      "cell_type": "code",
      "source": [
        "import numpy as np\n",
        "\n",
        "# a. Chọn ma trận 3x3 khả nghịch\n",
        "A = np.array([[2, 1, 3],\n",
        "              [1, 0, 2],\n",
        "              [4, 1, 8]])\n",
        "\n",
        "# Kiểm tra khả nghịch (det != 0)\n",
        "det_A = np.linalg.det(A)\n",
        "print(\"Định thức của ma trận A:\", det_A)\n",
        "\n",
        "if det_A != 0:\n",
        "    print(\"Ma trận A khả nghịch\")\n",
        "else:\n",
        "    print(\"Ma trận A không khả nghịch\")\n",
        "\n",
        "# Tính ma trận nghịch đảo\n",
        "A_inv = np.linalg.inv(A)\n",
        "print(\"Ma trận nghịch đảo A_inv:\")\n",
        "print(A_inv)\n",
        "\n",
        "# b. Nhập họ tên hoặc mã số sinh viên (ví dụ nhập chuỗi)\n",
        "student_code = input(\"Nhập họ tên hoặc mã số sinh viên: \")\n",
        "\n",
        "# c. Mã hóa: chuyển chuỗi thành vector số (mã ASCII) và nhân với A\n",
        "# Giả sử mỗi ký tự thành 1 số, đưa vào vector cột 3 phần tử (nếu không đủ thêm 0)\n",
        "def encode(text, matrix):\n",
        "    # Chuyển text thành list mã ASCII\n",
        "    ascii_vals = [ord(c) for c in text]\n",
        "    # Chia thành nhóm 3 phần tử\n",
        "    encoded_blocks = []\n",
        "    for i in range(0, len(ascii_vals), 3):\n",
        "        block = ascii_vals[i:i+3]\n",
        "        # Nếu thiếu, thêm 0 để đủ 3 phần tử\n",
        "        while len(block) < 3:\n",
        "            block.append(0)\n",
        "        vec = np.array(block).reshape(3,1)\n",
        "        encoded_vec = matrix.dot(vec)\n",
        "        encoded_blocks.append(encoded_vec)\n",
        "    return encoded_blocks\n",
        "\n",
        "encoded_blocks = encode(student_code, A)\n",
        "print(\"\\nCác block mã hóa:\")\n",
        "for block in encoded_blocks:\n",
        "    print(block.flatten())\n",
        "\n",
        "# d. Giải mã: nhân ma trận nghịch đảo với từng block mã hóa\n",
        "def decode(encoded_blocks, inv_matrix):\n",
        "    decoded_chars = []\n",
        "    for block in encoded_blocks:\n",
        "        decoded_vec = inv_matrix.dot(block)\n",
        "        # Làm tròn và chuyển về ký tự\n",
        "        decoded_vec_rounded = np.rint(decoded_vec).astype(int).flatten()\n",
        "        for val in decoded_vec_rounded:\n",
        "            if val != 0:\n",
        "                decoded_chars.append(chr(val))\n",
        "    return ''.join(decoded_chars)\n",
        "\n",
        "decoded_text = decode(encoded_blocks, A_inv)\n",
        "print(\"\\nGiải mã (giải mã chuỗi):\")\n",
        "print(decoded_text)\n"
      ],
      "metadata": {
        "colab": {
          "base_uri": "https://localhost:8080/"
        },
        "id": "P6b25kDPWTAF",
        "outputId": "4ba73e46-1f11-4fc2-fb2f-dfb5d21ac8dd"
      },
      "execution_count": null,
      "outputs": [
        {
          "output_type": "stream",
          "name": "stdout",
          "text": [
            "Định thức của ma trận A: -1.0\n",
            "Ma trận A khả nghịch\n",
            "Ma trận nghịch đảo A_inv:\n",
            "[[ 2.  5. -2.]\n",
            " [ 0. -4.  1.]\n",
            " [-1. -2.  1.]]\n",
            "Nhập họ tên hoặc mã số sinh viên: 2474802016850\n",
            "\n",
            "Các block mã hóa:\n",
            "[317 160 692]\n",
            "[304 148 648]\n",
            "[295 148 640]\n",
            "[323 160 696]\n",
            "[ 96  48 192]\n",
            "\n",
            "Giải mã (giải mã chuỗi):\n",
            "2474802016850\n"
          ]
        }
      ]
    },
    {
      "cell_type": "markdown",
      "source": [
        "câu 2:"
      ],
      "metadata": {
        "id": "ApQ98ZFdWlBF"
      }
    },
    {
      "cell_type": "code",
      "source": [
        "from fractions import Fraction\n",
        "\n",
        "def continued_fraction(coeffs):\n",
        "    # Bắt đầu từ cuối\n",
        "    result = Fraction(coeffs[-1])\n",
        "    for a in reversed(coeffs[:-1]):\n",
        "        result = a + Fraction(1, result)\n",
        "    return result\n",
        "\n",
        "# Ví dụ: phân số 8/3 = [2, 1, 2] hoặc [3,1,2] tùy dạng\n",
        "coeffs = [3, 1, 2]\n",
        "frac = continued_fraction(coeffs)\n",
        "print(f\"Phân số từ liên phân số {coeffs} là: {frac} = {float(frac)}\")\n"
      ],
      "metadata": {
        "colab": {
          "base_uri": "https://localhost:8080/"
        },
        "id": "AeeD4p-NWmzF",
        "outputId": "f8a0c699-e40d-442d-b14d-3215ae7f8aab"
      },
      "execution_count": null,
      "outputs": [
        {
          "output_type": "stream",
          "name": "stdout",
          "text": [
            "Phân số từ liên phân số [3, 1, 2] là: 11/3 = 3.6666666666666665\n"
          ]
        }
      ]
    }
  ]
}