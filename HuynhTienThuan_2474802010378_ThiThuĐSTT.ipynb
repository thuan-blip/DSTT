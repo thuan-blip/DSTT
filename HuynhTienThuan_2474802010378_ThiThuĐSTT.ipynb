{
  "nbformat": 4,
  "nbformat_minor": 0,
  "metadata": {
    "colab": {
      "provenance": []
    },
    "kernelspec": {
      "name": "python3",
      "display_name": "Python 3"
    },
    "language_info": {
      "name": "python"
    }
  },
  "cells": [
    {
      "cell_type": "markdown",
      "source": [
        "Câu 1"
      ],
      "metadata": {
        "id": "1eDyDp0Um2I2"
      }
    },
    {
      "cell_type": "code",
      "execution_count": 1,
      "metadata": {
        "colab": {
          "base_uri": "https://localhost:8080/"
        },
        "id": "9kWbFHKXlq_x",
        "outputId": "f338cdac-f995-4b22-e7c3-fa87d405124d"
      },
      "outputs": [
        {
          "output_type": "stream",
          "name": "stdout",
          "text": [
            "Câu 1a:\n",
            "A + B = [3 3 1 5]\n",
            "3A - 2B = [  4 -11  13 -10]\n",
            "\n",
            "Câu 1b:\n",
            "A · B = -8\n",
            "Góc giữa A và B ≈ 108.376 độ\n",
            "\n",
            "Câu 1c:\n",
            "Cᵀ × C =\n",
            " [[ 5  0 -1]\n",
            " [ 0 14 10]\n",
            " [-1 10 17]]\n"
          ]
        }
      ],
      "source": [
        "import numpy as np\n",
        "from numpy.linalg import inv, solve, det, eig, matrix_rank, norm\n",
        "from math import acos, degrees\n",
        "\n",
        "# Câu 1a\n",
        "print(\"Câu 1a:\")\n",
        "A = np.array([2, -1, 3, 0])\n",
        "B = np.array([1, 4, -2, 5])\n",
        "print(\"A + B =\", A + B)\n",
        "print(\"3A - 2B =\", 3*A - 2*B)\n",
        "\n",
        "# Câu 1b\n",
        "print(\"\\nCâu 1b:\")\n",
        "dot_product = np.dot(A, B)\n",
        "angle = degrees(acos(dot_product / (norm(A) * norm(B))))\n",
        "print(\"A · B =\", dot_product)\n",
        "print(\"Góc giữa A và B ≈\", round(angle, 3), \"độ\")\n",
        "\n",
        "# Câu 1c\n",
        "print(\"\\nCâu 1c:\")\n",
        "C = np.array([\n",
        "    [1, 2, -1],\n",
        "    [0, 3, 4],\n",
        "    [2, -1, 0]\n",
        "])\n",
        "CtC = C.T @ C\n",
        "print(\"Cᵀ × C =\\n\", CtC)\n"
      ]
    },
    {
      "cell_type": "markdown",
      "source": [
        "Câu 2"
      ],
      "metadata": {
        "id": "3gwKD-OrnAH7"
      }
    },
    {
      "cell_type": "code",
      "source": [
        "# Câu 2a\n",
        "print(\"\\nCâu 2a:\")\n",
        "M = np.array([\n",
        "    [1, 2, 3, 0],\n",
        "    [4, 5, 6, 1],\n",
        "    [7, 8, 9, 2],\n",
        "    [0, 1, 1, 0]\n",
        "])\n",
        "N = np.array([\n",
        "    [0, 1, 2, 3],\n",
        "    [4, 5, 6, 7],\n",
        "    [8, 9, 10, 11],\n",
        "    [12, 13, 14, 15]\n",
        "])\n",
        "MN = M @ N\n",
        "print(\"M × N =\\n\", MN)\n",
        "\n",
        "# Câu 2b\n",
        "print(\"\\nCâu 2b:\")\n",
        "det_M = det(M)\n",
        "print(\"det(M) =\", det_M)\n",
        "\n",
        "# Câu 2c\n",
        "print(\"\\nCâu 2c:\")\n",
        "rank_N = matrix_rank(N)\n",
        "print(\"rank(N) =\", rank_N)\n"
      ],
      "metadata": {
        "colab": {
          "base_uri": "https://localhost:8080/"
        },
        "id": "WXvnyKlIm_zr",
        "outputId": "9214a4ac-f878-4a96-c985-19552a042d87"
      },
      "execution_count": 2,
      "outputs": [
        {
          "output_type": "stream",
          "name": "stdout",
          "text": [
            "\n",
            "Câu 2a:\n",
            "M × N =\n",
            " [[ 32  38  44  50]\n",
            " [ 80  96 112 128]\n",
            " [128 154 180 206]\n",
            " [ 12  14  16  18]]\n",
            "\n",
            "Câu 2b:\n",
            "det(M) = 6.66133814775094e-16\n",
            "\n",
            "Câu 2c:\n",
            "rank(N) = 2\n"
          ]
        }
      ]
    },
    {
      "cell_type": "markdown",
      "source": [
        "Câu 3"
      ],
      "metadata": {
        "id": "2kS_VhIAnHeO"
      }
    },
    {
      "cell_type": "code",
      "source": [
        "\n",
        "# Câu 3a\n",
        "print(\"\\nCâu 3a:\")\n",
        "P = np.array([\n",
        "    [2, 1, 0, 1],\n",
        "    [0, 3, 1, -1],\n",
        "    [1, 0, 4, 2],\n",
        "    [0, 1, 0, 3]\n",
        "])\n",
        "if det(P) != 0:\n",
        "    P_inv = inv(P)\n",
        "    print(\"P khả nghịch. P⁻¹ =\\n\", P_inv)\n",
        "else:\n",
        "    print(\"P không khả nghịch.\")\n",
        "\n",
        "# Câu 3b\n",
        "print(\"\\nCâu 3b:\")\n",
        "b3 = np.array([4, 7, 9, 5])\n",
        "x3 = P_inv @ b3\n",
        "print(\"Nghiệm x =\", x3)\n",
        "\n",
        "# Câu 3c\n",
        "print(\"\\nCâu 3c:\")\n",
        "check_b3 = P @ x3\n",
        "print(\"P·x =\", check_b3)\n",
        "print(\"b =\", b3)"
      ],
      "metadata": {
        "colab": {
          "base_uri": "https://localhost:8080/"
        },
        "id": "DaOL3kvqnIiA",
        "outputId": "f6a21319-6279-4e14-f01e-075ebb0fe340"
      },
      "execution_count": 3,
      "outputs": [
        {
          "output_type": "stream",
          "name": "stdout",
          "text": [
            "\n",
            "Câu 3a:\n",
            "P khả nghịch. P⁻¹ =\n",
            " [[ 0.48837209 -0.09302326  0.02325581 -0.20930233]\n",
            " [ 0.03488372  0.27906977 -0.06976744  0.12790698]\n",
            " [-0.11627907  0.06976744  0.23255814 -0.09302326]\n",
            " [-0.01162791 -0.09302326  0.02325581  0.29069767]]\n",
            "\n",
            "Câu 3b:\n",
            "Nghiệm x = [0.46511628 2.10465116 1.65116279 0.96511628]\n",
            "\n",
            "Câu 3c:\n",
            "P·x = [4. 7. 9. 5.]\n",
            "b = [4 7 9 5]\n"
          ]
        }
      ]
    },
    {
      "cell_type": "markdown",
      "source": [
        "Câu 4"
      ],
      "metadata": {
        "id": "bzWHkbXDnMd4"
      }
    },
    {
      "cell_type": "code",
      "source": [
        "\n",
        "# Câu 4a\n",
        "print(\"\\nCâu 4a:\")\n",
        "Q = np.array([\n",
        "    [4, -1, 0],\n",
        "    [1, 3, -2],\n",
        "    [0, 1, 2]\n",
        "])\n",
        "e_vals, e_vecs = eig(Q)\n",
        "print(\"Giá trị riêng:\", e_vals)\n",
        "\n",
        "# Câu 4b\n",
        "print(\"\\nCâu 4b:\")\n",
        "print(\"Vector riêng (theo cột):\\n\", e_vecs)\n",
        "\n",
        "# Câu 4c\n",
        "print(\"\\nCâu 4c:\")\n",
        "for i in range(len(e_vals)):\n",
        "    v = e_vecs[:, i]\n",
        "    v_unit = v / norm(v)\n",
        "    print(f\"Vector riêng v{i+1} chuẩn hóa =\", v_unit)"
      ],
      "metadata": {
        "colab": {
          "base_uri": "https://localhost:8080/"
        },
        "id": "FArCH9_6nNCv",
        "outputId": "73d381a9-bc04-417a-c9af-e6714e5d2276"
      },
      "execution_count": 4,
      "outputs": [
        {
          "output_type": "stream",
          "name": "stdout",
          "text": [
            "\n",
            "Câu 4a:\n",
            "Giá trị riêng: [3.45339765+0.j         2.77330117+1.46771151j 2.77330117-1.46771151j]\n",
            "\n",
            "Câu 4b:\n",
            "Vector riêng (theo cột):\n",
            " [[ 0.83327121+0.j         -0.26206044-0.31354813j -0.26206044+0.31354813j]\n",
            " [ 0.455468  +0.j         -0.78166743+0.j         -0.78166743-0.j        ]\n",
            " [ 0.31338154+0.j         -0.21963176+0.41685708j -0.21963176-0.41685708j]]\n",
            "\n",
            "Câu 4c:\n",
            "Vector riêng v1 chuẩn hóa = [0.83327121+0.j 0.455468  +0.j 0.31338154+0.j]\n",
            "Vector riêng v2 chuẩn hóa = [-0.26206044-0.31354813j -0.78166743+0.j         -0.21963176+0.41685708j]\n",
            "Vector riêng v3 chuẩn hóa = [-0.26206044+0.31354813j -0.78166743+0.j         -0.21963176-0.41685708j]\n"
          ]
        }
      ]
    },
    {
      "cell_type": "markdown",
      "source": [
        "Câu 5"
      ],
      "metadata": {
        "id": "v747tHf_nXvM"
      }
    },
    {
      "cell_type": "code",
      "source": [
        "# Câu 5a\n",
        "print(\"\\nCâu 5a:\")\n",
        "R = np.array([\n",
        "    [1, -2, 3],\n",
        "    [2, 0, 1],\n",
        "    [-1, 1, 4]\n",
        "])\n",
        "b5 = np.array([10, 8, 7])\n",
        "x5 = solve(R, b5)\n",
        "print(\"Nghiệm x =\", x5)\n",
        "\n",
        "# Câu 5b\n",
        "print(\"\\nCâu 5b:\")\n",
        "if det(R) != 0:\n",
        "    R_inv = inv(R)\n",
        "    x_check = R_inv @ b5\n",
        "    print(\"R⁻¹ =\\n\", R_inv)\n",
        "    print(\"Nghiệm bằng R⁻¹ · b =\", x_check)\n",
        "    print(\"So sánh nghiệm:\", np.allclose(x5, x_check))\n",
        "else:\n",
        "    print(\"R không khả nghịch.\")\n",
        "\n",
        "# Câu 5c\n",
        "print(\"\\nCâu 5c:\")\n",
        "fro_R = norm(R, 'fro')\n",
        "print(\"Chuẩn Frobenius của R =\", fro_R)"
      ],
      "metadata": {
        "colab": {
          "base_uri": "https://localhost:8080/"
        },
        "id": "0-D16fNXnZL4",
        "outputId": "0dcfcbde-a095-4731-88a4-401572d528b8"
      },
      "execution_count": 5,
      "outputs": [
        {
          "output_type": "stream",
          "name": "stdout",
          "text": [
            "\n",
            "Câu 5a:\n",
            "Nghiệm x = [2.7826087  0.04347826 2.43478261]\n",
            "\n",
            "Câu 5b:\n",
            "R⁻¹ =\n",
            " [[-0.04347826  0.47826087 -0.08695652]\n",
            " [-0.39130435  0.30434783  0.2173913 ]\n",
            " [ 0.08695652  0.04347826  0.17391304]]\n",
            "Nghiệm bằng R⁻¹ · b = [2.7826087  0.04347826 2.43478261]\n",
            "So sánh nghiệm: True\n",
            "\n",
            "Câu 5c:\n",
            "Chuẩn Frobenius của R = 6.082762530298219\n"
          ]
        }
      ]
    }
  ]
}