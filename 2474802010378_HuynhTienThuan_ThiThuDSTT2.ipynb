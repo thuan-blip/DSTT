{
  "cells": [
    {
      "cell_type": "code",
      "source": [
        "import numpy as np\n",
        "from math import acos, degrees\n",
        "\n",
        "A = np.array([3, -2, 1, 4])\n",
        "B = np.array([-1, 5, 0, 2])\n",
        "\n",
        "A_plus_B = A + B\n",
        "twoA_plus_threeB = 2 * A + 3 * B\n",
        "\n",
        "dot_product = np.dot(A, B)\n",
        "norm_A = np.linalg.norm(A)\n",
        "norm_B = np.linalg.norm(B)\n",
        "cos_theta = dot_product / (norm_A * norm_B)\n",
        "angle_degrees = round(degrees(acos(cos_theta)), 3)\n",
        "\n",
        "C = np.array([[2, -1, 3],\n",
        "              [1, 4, -2],\n",
        "              [0, 2, 5]])\n",
        "C_CT = np.dot(C, C.T)\n",
        "\n",
        "print( \"A + B =\", A_plus_B)\n",
        "print(\" 2A + 3B =\", twoA_plus_threeB)\n",
        "print(\" A · B =\", dot_product)\n",
        "print(\" Angle between A and B (degrees) =\", angle_degrees)\n",
        "print(\" C * C^T =\\n\", C_CT)\n"
      ],
      "metadata": {
        "id": "P3Sdhfz1k-5n",
        "outputId": "111bf63f-c8e9-4b75-d170-5daa597cf92b",
        "colab": {
          "base_uri": "https://localhost:8080/"
        }
      },
      "execution_count": 1,
      "outputs": [
        {
          "output_type": "stream",
          "name": "stdout",
          "text": [
            "a) A + B = [2 3 1 6]\n",
            "a) 2A + 3B = [ 3 11  2 14]\n",
            "b) A · B = -5\n",
            "b) Angle between A and B (degrees) = 99.594\n",
            "c) C * C^T =\n",
            " [[14 -8 13]\n",
            " [-8 21 -2]\n",
            " [13 -2 29]]\n"
          ]
        }
      ]
    },
    {
      "cell_type": "code",
      "source": [
        "import numpy as np\n",
        "\n",
        "M = np.array([\n",
        "    [2, -1, 3, 0],\n",
        "    [1, 4, -2, 5],\n",
        "    [0, 2, 6, -3],\n",
        "    [-1, 0, 1, 4]\n",
        "])\n",
        "\n",
        "N = np.array([\n",
        "    [1, 3, -2, 0],\n",
        "    [4, -1, 5, 2],\n",
        "    [0, 2, 3, -1],\n",
        "    [-3, 1, 0, 4]\n",
        "])\n",
        "\n",
        "product_MN = np.dot(M, N)\n",
        "\n",
        "try:\n",
        "    det_M = np.linalg.det(M)\n",
        "    det_M_result = round(det_M, 3)\n",
        "except np.linalg.LinAlgError:\n",
        "    det_M_result = \"Không khả thi (ma trận không vuông)\"\n",
        "\n",
        "rank_N = np.linalg.matrix_rank(N)\n",
        "\n",
        "print(\" M × N =\\n\", product_MN)\n",
        "print(\" det(M) =\", det_M_result)\n",
        "print(\" rank(N) =\", rank_N)\n"
      ],
      "metadata": {
        "id": "aV4iXDgUlWBn",
        "outputId": "f5d4aef8-8a07-40aa-c124-de79a30a38e3",
        "colab": {
          "base_uri": "https://localhost:8080/"
        }
      },
      "execution_count": 2,
      "outputs": [
        {
          "output_type": "stream",
          "name": "stdout",
          "text": [
            " M × N =\n",
            " [[ -2  13   0  -5]\n",
            " [  2   0  12  30]\n",
            " [ 17   7  28 -14]\n",
            " [-13   3   5  15]]\n",
            " det(M) = 409.0\n",
            " rank(N) = 4\n"
          ]
        }
      ]
    },
    {
      "cell_type": "code",
      "source": [
        "import numpy as np\n",
        "\n",
        "P = np.array([\n",
        "    [3, -1, 0, 2],\n",
        "    [1, 4, -2, 0],\n",
        "    [0, 1, 5, -1],\n",
        "    [2, 0, 1, 3]\n",
        "])\n",
        "\n",
        "B = np.array([6, 8, 3, 7])\n",
        "\n",
        "try:\n",
        "    P_inv = np.linalg.inv(P)\n",
        "    is_invertible = True\n",
        "except np.linalg.LinAlgError:\n",
        "    P_inv = None\n",
        "    is_invertible = False\n",
        "\n",
        "if is_invertible:\n",
        "    solution = np.dot(P_inv, B)\n",
        "else:\n",
        "    solution = \"Không giải được bằng nghịch đảo (ma trận không khả nghịch)\"\n",
        "\n",
        "if is_invertible:\n",
        "    check_result = np.dot(P, solution)\n",
        "else:\n",
        "    check_result = None\n",
        "\n",
        "print(\"Ma trận nghịch đảo của P =\\n\", P_inv)\n",
        "print(\" Nghiệm của hệ phương trình =\", solution)\n",
        "print(\" P * nghiệm =\", check_result)\n"
      ],
      "metadata": {
        "id": "6F0GcWDIl7_V",
        "outputId": "7481e3c2-6910-424f-b7fa-2a880138355b",
        "colab": {
          "base_uri": "https://localhost:8080/"
        }
      },
      "execution_count": 3,
      "outputs": [
        {
          "output_type": "stream",
          "name": "stdout",
          "text": [
            "Ma trận nghịch đảo của P =\n",
            " [[ 0.5         0.1         0.1        -0.3       ]\n",
            " [-0.14285714  0.2         0.05714286  0.11428571]\n",
            " [-0.03571429 -0.05        0.16428571  0.07857143]\n",
            " [-0.32142857 -0.05       -0.12142857  0.50714286]]\n",
            " Nghiệm của hệ phương trình = [2.         1.71428571 0.42857143 0.85714286]\n",
            " P * nghiệm = [6. 8. 3. 7.]\n"
          ]
        }
      ]
    },
    {
      "cell_type": "code",
      "source": [
        "import numpy as np\n",
        "\n",
        "Q = np.array([\n",
        "    [5, -2, 1],\n",
        "    [0, 3, -1],\n",
        "    [2, 0, 4]\n",
        "])\n",
        "\n",
        "eigenvalues, eigenvectors = np.linalg.eig(Q)\n",
        "eigenvectors_list = eigenvectors.T.tolist()\n",
        "normalized_vectors = [vec / np.linalg.norm(vec) for vec in eigenvectors.T]\n",
        "\n",
        "print(\" Giá trị riêng:\", eigenvalues)\n",
        "print(\" Vector riêng:\")\n",
        "for vec in eigenvectors_list:\n",
        "    print(vec)\n",
        "print(\" Vector riêng chuẩn hóa:\")\n",
        "for vec in normalized_vectors:\n",
        "    print(vec)\n"
      ],
      "metadata": {
        "id": "YtzlHmgRmkby",
        "outputId": "20e16758-9e64-4684-d3ae-b17706316239",
        "colab": {
          "base_uri": "https://localhost:8080/"
        }
      },
      "execution_count": 4,
      "outputs": [
        {
          "output_type": "stream",
          "name": "stdout",
          "text": [
            " Giá trị riêng: [6.3553014+0.j         2.8223493+1.07730381j 2.8223493-1.07730381j]\n",
            " Vector riêng:\n",
            "[(0.7484601259210814+0j), (-0.18941773383060273+0j), (0.6355535870535844+0j)]\n",
            "[(-0.37423006296054073+0.3423421513016493j), (0.09470886691530005+0.5743305493612973j), (0.6355535870535848+0j)]\n",
            "[(-0.37423006296054073-0.3423421513016493j), (0.09470886691530005-0.5743305493612973j), (0.6355535870535848-0j)]\n",
            " Vector riêng chuẩn hóa:\n",
            "[ 0.74846013+0.j -0.18941773+0.j  0.63555359+0.j]\n",
            "[-0.37423006+0.34234215j  0.09470887+0.57433055j  0.63555359+0.j        ]\n",
            "[-0.37423006-0.34234215j  0.09470887-0.57433055j  0.63555359-0.j        ]\n"
          ]
        }
      ]
    },
    {
      "cell_type": "code",
      "source": [
        "import numpy as np\n",
        "\n",
        "R = np.array([\n",
        "    [4, -1, 2],\n",
        "    [1, 3, -2],\n",
        "    [0, 2, 5]\n",
        "])\n",
        "b = np.array([12, 5, 9])\n",
        "\n",
        "x1 = np.linalg.solve(R, b)\n",
        "\n",
        "try:\n",
        "    R_inv = np.linalg.inv(R)\n",
        "    x2 = np.dot(R_inv, b)\n",
        "except np.linalg.LinAlgError:\n",
        "    R_inv = None\n",
        "    x2 = None\n",
        "\n",
        "frobenius_norm = np.linalg.norm(R, 'fro')\n",
        "\n",
        "print(\" Nghiệm hệ Rx = b:\", x1)\n",
        "if R_inv is not None:\n",
        "    print(\" Ma trận nghịch đảo của R:\\n\", R_inv)\n",
        "    print(\" Nghiệm từ nghịch đảo:\", x2)\n",
        "else:\n",
        "    print(\" R không khả nghịch\")\n",
        "print(\" Chuẩn Frobenius của R:\", round(frobenius_norm, 3))\n"
      ],
      "metadata": {
        "id": "wN6L9zqXm__W",
        "outputId": "e5648ae8-4c54-46a0-c5bc-e57596c0d888",
        "colab": {
          "base_uri": "https://localhost:8080/"
        }
      },
      "execution_count": 5,
      "outputs": [
        {
          "output_type": "stream",
          "name": "stdout",
          "text": [
            " Nghiệm hệ Rx = b: [2.78823529 1.52941176 1.18823529]\n",
            " Ma trận nghịch đảo của R:\n",
            " [[ 0.22352941  0.10588235 -0.04705882]\n",
            " [-0.05882353  0.23529412  0.11764706]\n",
            " [ 0.02352941 -0.09411765  0.15294118]]\n",
            " Nghiệm từ nghịch đảo: [2.78823529 1.52941176 1.18823529]\n",
            " Chuẩn Frobenius của R: 8.0\n"
          ]
        }
      ]
    }
  ],
  "metadata": {
    "colab": {
      "name": "Welcome To Colab",
      "toc_visible": true,
      "provenance": []
    },
    "kernelspec": {
      "display_name": "Python 3",
      "name": "python3"
    }
  },
  "nbformat": 4,
  "nbformat_minor": 0
}